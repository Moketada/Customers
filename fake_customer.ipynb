{
 "cells": [
  {
   "cell_type": "markdown",
   "id": "73274c2d",
   "metadata": {},
   "source": [
    "# 🛒 Customer Sales Analysis Project\n",
    "\n",
    "## 📌 Project Overview\n",
    "This project is based on a **synthetic dataset of customer transactions**.  \n",
    "The dataset contains information such as customer demographics (age, gender), purchase details (date, amount, product category), and customer feedback (ratings).  \n",
    "\n",
    "Our main goal is to **analyze customer purchasing behavior** in order to extract meaningful business insights.\n",
    "\n",
    "---\n",
    "## 🎯 Objectives\n",
    "1. **Data Cleaning & Preparation**  \n",
    "   - Handle missing values, inconsistent data, and outliers.  \n",
    "   - Standardize columns for accurate analysis.  \n",
    "\n",
    "2. **Customer Behavior Analysis**  \n",
    "   - Study sales trends over time (monthly/quarterly/annual).  \n",
    "   - Understand demographics: age groups, gender distribution, and location effects.  \n",
    "   - Evaluate customer ratings and satisfaction patterns.  \n",
    "\n",
    "3. **Product Performance Analysis**  \n",
    "   - Identify high-performing products (“winning products”) based on sales.\n",
    "   - Analyze product ratings across categories.  \n",
    "   - Highlight seasonal patterns (peak vs. low sales months).  \n",
    "\n",
    "4. **Business Insights & Recommendations**  \n",
    "   - Support product strategy (bundles, promotions, targeting).  "
   ]
  },
  {
   "cell_type": "markdown",
   "id": "439be0cc",
   "metadata": {},
   "source": [
    "## Exploratory Data Analysis (EDA):"
   ]
  },
  {
   "cell_type": "code",
   "execution_count": 47,
   "id": "a4ee88f4",
   "metadata": {},
   "outputs": [
    {
     "data": {
      "application/vnd.microsoft.datawrangler.viewer.v0+json": {
       "columns": [
        {
         "name": "index",
         "rawType": "int64",
         "type": "integer"
        },
        {
         "name": "CustomerID",
         "rawType": "object",
         "type": "string"
        },
        {
         "name": "Name",
         "rawType": "object",
         "type": "string"
        },
        {
         "name": "Age",
         "rawType": "float64",
         "type": "float"
        },
        {
         "name": "Gender",
         "rawType": "object",
         "type": "unknown"
        },
        {
         "name": "Email",
         "rawType": "object",
         "type": "string"
        },
        {
         "name": "Phone",
         "rawType": "float64",
         "type": "float"
        },
        {
         "name": "PurchaseAmount",
         "rawType": "float64",
         "type": "float"
        },
        {
         "name": "PurchaseDate",
         "rawType": "object",
         "type": "string"
        },
        {
         "name": "ProductCategory",
         "rawType": "object",
         "type": "unknown"
        },
        {
         "name": "Rating",
         "rawType": "float64",
         "type": "float"
        },
        {
         "name": "Unnamed",
         "rawType": "float64",
         "type": "float"
        },
        {
         "name": "  Gender  ",
         "rawType": "object",
         "type": "unknown"
        }
       ],
       "ref": "225dde5c-331d-4c25-b818-ae9a5b12babf",
       "rows": [
        [
         "0",
         "CUST1000",
         "Ali Hassan",
         "72.0",
         null,
         "ali.hassan@gmail.com",
         "123456789.0",
         "837.31",
         "2023-10-12",
         "Books",
         "3.0",
         null,
         null
        ],
        [
         "1",
         "CUST1001",
         "Fatma Ali",
         null,
         "Female",
         "fatma.ali@hotmail.com",
         null,
         "900.25",
         "2023-02-23",
         null,
         "3.0",
         null,
         "Female"
        ],
        [
         "2",
         "CUST1002",
         "Ahmed Mahmoud",
         "-1.0",
         "male",
         "ahmed.mahmoud@hotmail.com",
         null,
         "761.72",
         "2023-07-07",
         "Toys",
         "2.0",
         null,
         "male"
        ],
        [
         "3",
         "CUST1003",
         "Ahmed Gaber",
         "-1.0",
         "F",
         "ahmed.gaber@gmail.com",
         null,
         "303.72",
         "2023-12-30",
         null,
         "2.0",
         null,
         "F"
        ],
        [
         "4",
         "CUST1004",
         "Ali Ibrahim",
         "73.0",
         "M",
         "ali.ibrahim@yahoo.com",
         "987654321.0",
         "635.81",
         "2023-12-07",
         "Clothing",
         "2.0",
         null,
         "M"
        ],
        [
         "5",
         "CUST1005",
         "Alaa Ibrahim",
         null,
         "F",
         "alaa.ibrahim@hotmail.com",
         "987654321.0",
         "886.26",
         "2025-01-16",
         null,
         "2.0",
         null,
         "F"
        ],
        [
         "6",
         "CUST1006",
         "Mark Ali",
         "-1.0",
         "male",
         "mark.ali@hotmail.com",
         null,
         "92.53",
         "2024-06-12",
         "Books",
         "2.0",
         null,
         "male"
        ],
        [
         "7",
         "CUST1007",
         "Alaa Hassan",
         "200.0",
         "female",
         "alaa.hassan@hotmail.com",
         "987654321.0",
         "318.43",
         "2024-05-17",
         "Toys",
         "10.0",
         null,
         "female"
        ],
        [
         "8",
         "CUST1008",
         "John Hassan",
         "89.0",
         "Male",
         "john.hassan@yahoo.com",
         null,
         "883.52",
         "32/13/2020",
         "Home",
         "4.0",
         null,
         "Male"
        ],
        [
         "9",
         "CUST1009",
         "Fatma Gaber",
         "200.0",
         "Female",
         "fatma.gaber@hotmail.com",
         null,
         "966.47",
         "2025-01-24",
         "Electronics",
         "2.0",
         null,
         "Female"
        ],
        [
         "10",
         "CUST1010",
         "Ahmed Smith",
         "-1.0",
         "M",
         "ahmed.smith@gmail.com",
         "987654321.0",
         "882.19",
         "2025-06-24",
         null,
         "3.0",
         null,
         "M"
        ],
        [
         "11",
         "CUST1011",
         "Sara Smith",
         "-1.0",
         "Male",
         "sara.smith@yahoo.com",
         null,
         "405.79",
         "2024-08-05",
         null,
         "10.0",
         null,
         "Male"
        ],
        [
         "12",
         "CUST1012",
         "Lina Ibrahim",
         null,
         null,
         "lina.ibrahim@hotmail.com",
         null,
         "142.6",
         "2023-05-23",
         "Home",
         "2.0",
         null,
         null
        ],
        [
         "13",
         "CUST1013",
         "Lina Gaber",
         null,
         "male",
         "lina.gaber@gmail.com",
         null,
         null,
         "2024-02-04",
         "Electronics",
         "2.0",
         null,
         "male"
        ],
        [
         "14",
         "CUST1014",
         "Alaa Ali",
         null,
         "M",
         "alaa.ali@gmail.com",
         null,
         "891.8",
         "2023-05-21",
         "Clothing",
         null,
         null,
         "M"
        ],
        [
         "15",
         "CUST1015",
         "Ali Ibrahim",
         "18.0",
         "female",
         "ali.ibrahim@hotmail.com",
         "123456789.0",
         "337.49",
         "2024-06-25",
         "Home",
         "1.0",
         null,
         "female"
        ],
        [
         "16",
         "CUST1016",
         "Fatma Hassan",
         "200.0",
         "Female",
         "fatma.hassan@gmail.com",
         "987654321.0",
         "272.08",
         "2024-01-09",
         "Toys",
         "2.0",
         null,
         "Female"
        ],
        [
         "17",
         "CUST1017",
         "John Mahmoud",
         "200.0",
         "M",
         "john.mahmoud@gmail.com",
         null,
         "833.56",
         "2025-02-19",
         null,
         null,
         null,
         "M"
        ],
        [
         "18",
         "CUST1018",
         "Alaa Ali",
         "15.0",
         "Female",
         "alaa.ali@hotmail.com",
         "123456789.0",
         "923.5",
         "2024-01-04",
         "Toys",
         "1.0",
         null,
         "Female"
        ],
        [
         "19",
         "CUST1019",
         "Ahmed Ibrahim",
         "-1.0",
         "Male",
         "ahmed.ibrahim@yahoo.com",
         "123456789.0",
         "497.45",
         "32/13/2020",
         null,
         "1.0",
         null,
         "Male"
        ],
        [
         "20",
         "CUST1020",
         "Lina Gaber",
         null,
         "M",
         "lina.gaber@hotmail.com",
         null,
         "667.69",
         "2023-04-27",
         "Clothing",
         null,
         null,
         "M"
        ],
        [
         "21",
         "CUST1021",
         "Fatma Ibrahim",
         null,
         "male",
         "fatma.ibrahim@yahoo.com",
         "123456789.0",
         "118.22",
         "2024-12-30",
         "Clothing",
         "1.0",
         null,
         "male"
        ],
        [
         "22",
         "CUST1022",
         "Ahmed Mahmoud",
         "-1.0",
         null,
         "ahmed.mahmoud@gmail.com",
         null,
         "22.02",
         "2025-02-22",
         "Electronics",
         "1.0",
         null,
         null
        ],
        [
         "23",
         "CUST1023",
         "Lina Ibrahim",
         "44.0",
         "M",
         "lina.ibrahim@yahoo.com",
         "123456789.0",
         "389.24",
         "32/13/2020",
         "Clothing",
         "10.0",
         null,
         "M"
        ],
        [
         "24",
         "CUST1024",
         "John Hassan",
         "200.0",
         "Male",
         "john.hassan@hotmail.com",
         null,
         "125.65",
         "2023-02-27",
         null,
         "10.0",
         null,
         "Male"
        ],
        [
         "25",
         "CUST1025",
         "Fatma Mahmoud",
         "-1.0",
         "Female",
         "fatma.mahmoud@yahoo.com",
         "987654321.0",
         "334.63",
         "2025-06-18",
         "Electronics",
         "3.0",
         null,
         "Female"
        ],
        [
         "26",
         "CUST1026",
         "Sara Mahmoud",
         "-1.0",
         "M",
         "sara.mahmoud@hotmail.com",
         "123456789.0",
         "801.36",
         "32/13/2020",
         null,
         "10.0",
         null,
         "M"
        ],
        [
         "27",
         "CUST1027",
         "Ahmed Hassan",
         null,
         "male",
         "ahmed.hassan@hotmail.com",
         null,
         "478.39",
         "2025-03-22",
         null,
         null,
         null,
         "male"
        ],
        [
         "28",
         "CUST1028",
         "Lina Smith",
         "-1.0",
         "Male",
         "lina.smith@gmail.com",
         "123456789.0",
         "303.65",
         "2023-11-10",
         "Clothing",
         "2.0",
         null,
         "Male"
        ],
        [
         "29",
         "CUST1029",
         "John Mahmoud",
         "67.0",
         "F",
         "john.mahmoud@hotmail.com",
         null,
         "387.63",
         "2024-02-28",
         "Books",
         "4.0",
         null,
         "F"
        ],
        [
         "30",
         "CUST1030",
         "Ali Ali",
         "62.0",
         "F",
         "ali.ali@gmail.com",
         "987654321.0",
         null,
         "2023-05-16",
         "Toys",
         "2.0",
         null,
         "F"
        ],
        [
         "31",
         "CUST1031",
         "John Hassan",
         "90.0",
         "male",
         "john.hassan@yahoo.com",
         null,
         "598.93",
         "2024-10-13",
         "Clothing",
         "5.0",
         null,
         "male"
        ],
        [
         "32",
         "CUST1032",
         "Lina Mahmoud",
         "200.0",
         "M",
         "lina.mahmoud@hotmail.com",
         null,
         "958.61",
         "2024-03-01",
         null,
         null,
         null,
         "M"
        ],
        [
         "33",
         "CUST1033",
         "Sara Mahmoud",
         "200.0",
         "Male",
         "sara.mahmoud@gmail.com",
         "123456789.0",
         "378.4",
         "2024-05-30",
         null,
         null,
         null,
         "Male"
        ],
        [
         "34",
         "CUST1034",
         "Fatma Mahmoud",
         "200.0",
         "F",
         "fatma.mahmoud@hotmail.com",
         "987654321.0",
         "892.09",
         "2023-11-15",
         null,
         "4.0",
         null,
         "F"
        ],
        [
         "35",
         "CUST1035",
         "Mark Gaber",
         "200.0",
         "Male",
         "mark.gaber@yahoo.com",
         null,
         "917.28",
         "2024-11-16",
         "Home",
         "2.0",
         null,
         "Male"
        ],
        [
         "36",
         "CUST1036",
         "Sara Ali",
         "70.0",
         "female",
         "sara.ali@yahoo.com",
         null,
         "542.06",
         "2023-01-12",
         "Electronics",
         null,
         null,
         "female"
        ],
        [
         "37",
         "CUST1037",
         "Sara Hassan",
         null,
         "M",
         "sara.hassan@yahoo.com",
         null,
         "273.27",
         "2025-01-17",
         "Electronics",
         "5.0",
         null,
         "M"
        ],
        [
         "38",
         "CUST1038",
         "Lina Gaber",
         "46.0",
         "female",
         "lina.gaber@hotmail.com",
         "123456789.0",
         "273.77",
         "2023-01-30",
         "Electronics",
         "3.0",
         null,
         "female"
        ],
        [
         "39",
         "CUST1039",
         "Ahmed Hassan",
         "-1.0",
         "male",
         "ahmed.hassan@gmail.com",
         "123456789.0",
         "513.99",
         "2024-02-02",
         null,
         "5.0",
         null,
         "male"
        ],
        [
         "40",
         "CUST1040",
         "Fatma Gaber",
         "200.0",
         "female",
         "fatma.gaber@gmail.com",
         "123456789.0",
         "812.78",
         "2024-11-27",
         null,
         "1.0",
         null,
         "female"
        ],
        [
         "41",
         "CUST1041",
         "Alaa Mahmoud",
         null,
         "M",
         "alaa.mahmoud@hotmail.com",
         "987654321.0",
         "543.97",
         "2025-03-08",
         "Toys",
         "4.0",
         null,
         "M"
        ],
        [
         "42",
         "CUST1042",
         "Sara Mahmoud",
         "-1.0",
         "female",
         "sara.mahmoud@gmail.com",
         "123456789.0",
         "70.55",
         "2024-01-03",
         "Home",
         "2.0",
         null,
         "female"
        ],
        [
         "43",
         "CUST1043",
         "John Ibrahim",
         "57.0",
         "female",
         "john.ibrahim@hotmail.com",
         null,
         "330.84",
         "2024-08-12",
         null,
         null,
         null,
         "female"
        ],
        [
         "44",
         "CUST1044",
         "Sara Gaber",
         "200.0",
         null,
         "sara.gaber@hotmail.com",
         "987654321.0",
         "156.51",
         "2024-02-24",
         "Home",
         "3.0",
         null,
         null
        ],
        [
         "45",
         "CUST1045",
         "John Gaber",
         null,
         "M",
         "john.gaber@gmail.com",
         null,
         "207.45",
         "2024-12-24",
         "Clothing",
         "5.0",
         null,
         "M"
        ],
        [
         "46",
         "CUST1046",
         "Ahmed Hassan",
         "-1.0",
         null,
         "ahmed.hassan@hotmail.com",
         null,
         "713.49",
         "2023-02-27",
         "Books",
         "5.0",
         null,
         null
        ],
        [
         "47",
         "CUST1047",
         "Ahmed Ibrahim",
         null,
         "F",
         "ahmed.ibrahim@yahoo.com",
         "123456789.0",
         "911.39",
         "2024-11-26",
         "Clothing",
         "2.0",
         null,
         "F"
        ],
        [
         "48",
         "CUST1048",
         "Mark Smith",
         "81.0",
         "F",
         "mark.smith@yahoo.com",
         null,
         "309.4",
         "2024-02-05",
         "Clothing",
         "10.0",
         null,
         "F"
        ],
        [
         "49",
         "CUST1049",
         "Fatma Mahmoud",
         "-1.0",
         "M",
         "fatma.mahmoud@yahoo.com",
         null,
         "500.24",
         "2023-02-13",
         null,
         "4.0",
         null,
         "M"
        ]
       ],
       "shape": {
        "columns": 12,
        "rows": 2150
       }
      },
      "text/html": [
       "<div>\n",
       "<style scoped>\n",
       "    .dataframe tbody tr th:only-of-type {\n",
       "        vertical-align: middle;\n",
       "    }\n",
       "\n",
       "    .dataframe tbody tr th {\n",
       "        vertical-align: top;\n",
       "    }\n",
       "\n",
       "    .dataframe thead th {\n",
       "        text-align: right;\n",
       "    }\n",
       "</style>\n",
       "<table border=\"1\" class=\"dataframe\">\n",
       "  <thead>\n",
       "    <tr style=\"text-align: right;\">\n",
       "      <th></th>\n",
       "      <th>CustomerID</th>\n",
       "      <th>Name</th>\n",
       "      <th>Age</th>\n",
       "      <th>Gender</th>\n",
       "      <th>Email</th>\n",
       "      <th>Phone</th>\n",
       "      <th>PurchaseAmount</th>\n",
       "      <th>PurchaseDate</th>\n",
       "      <th>ProductCategory</th>\n",
       "      <th>Rating</th>\n",
       "      <th>Unnamed</th>\n",
       "      <th>Gender</th>\n",
       "    </tr>\n",
       "  </thead>\n",
       "  <tbody>\n",
       "    <tr>\n",
       "      <th>0</th>\n",
       "      <td>CUST1000</td>\n",
       "      <td>Ali Hassan</td>\n",
       "      <td>72.0</td>\n",
       "      <td>NaN</td>\n",
       "      <td>ali.hassan@gmail.com</td>\n",
       "      <td>123456789.0</td>\n",
       "      <td>837.31</td>\n",
       "      <td>2023-10-12</td>\n",
       "      <td>Books</td>\n",
       "      <td>3.0</td>\n",
       "      <td>NaN</td>\n",
       "      <td>NaN</td>\n",
       "    </tr>\n",
       "    <tr>\n",
       "      <th>1</th>\n",
       "      <td>CUST1001</td>\n",
       "      <td>Fatma Ali</td>\n",
       "      <td>NaN</td>\n",
       "      <td>Female</td>\n",
       "      <td>fatma.ali@hotmail.com</td>\n",
       "      <td>NaN</td>\n",
       "      <td>900.25</td>\n",
       "      <td>2023-02-23</td>\n",
       "      <td>NaN</td>\n",
       "      <td>3.0</td>\n",
       "      <td>NaN</td>\n",
       "      <td>Female</td>\n",
       "    </tr>\n",
       "    <tr>\n",
       "      <th>2</th>\n",
       "      <td>CUST1002</td>\n",
       "      <td>Ahmed Mahmoud</td>\n",
       "      <td>-1.0</td>\n",
       "      <td>male</td>\n",
       "      <td>ahmed.mahmoud@hotmail.com</td>\n",
       "      <td>NaN</td>\n",
       "      <td>761.72</td>\n",
       "      <td>2023-07-07</td>\n",
       "      <td>Toys</td>\n",
       "      <td>2.0</td>\n",
       "      <td>NaN</td>\n",
       "      <td>male</td>\n",
       "    </tr>\n",
       "    <tr>\n",
       "      <th>3</th>\n",
       "      <td>CUST1003</td>\n",
       "      <td>Ahmed Gaber</td>\n",
       "      <td>-1.0</td>\n",
       "      <td>F</td>\n",
       "      <td>ahmed.gaber@gmail.com</td>\n",
       "      <td>NaN</td>\n",
       "      <td>303.72</td>\n",
       "      <td>2023-12-30</td>\n",
       "      <td>NaN</td>\n",
       "      <td>2.0</td>\n",
       "      <td>NaN</td>\n",
       "      <td>F</td>\n",
       "    </tr>\n",
       "    <tr>\n",
       "      <th>4</th>\n",
       "      <td>CUST1004</td>\n",
       "      <td>Ali Ibrahim</td>\n",
       "      <td>73.0</td>\n",
       "      <td>M</td>\n",
       "      <td>ali.ibrahim@yahoo.com</td>\n",
       "      <td>987654321.0</td>\n",
       "      <td>635.81</td>\n",
       "      <td>2023-12-07</td>\n",
       "      <td>Clothing</td>\n",
       "      <td>2.0</td>\n",
       "      <td>NaN</td>\n",
       "      <td>M</td>\n",
       "    </tr>\n",
       "    <tr>\n",
       "      <th>...</th>\n",
       "      <td>...</td>\n",
       "      <td>...</td>\n",
       "      <td>...</td>\n",
       "      <td>...</td>\n",
       "      <td>...</td>\n",
       "      <td>...</td>\n",
       "      <td>...</td>\n",
       "      <td>...</td>\n",
       "      <td>...</td>\n",
       "      <td>...</td>\n",
       "      <td>...</td>\n",
       "      <td>...</td>\n",
       "    </tr>\n",
       "    <tr>\n",
       "      <th>2145</th>\n",
       "      <td>CUST1447</td>\n",
       "      <td>Mark Mahmoud</td>\n",
       "      <td>66.0</td>\n",
       "      <td>male</td>\n",
       "      <td>mark.mahmoud@hotmail.com</td>\n",
       "      <td>987654321.0</td>\n",
       "      <td>462.47</td>\n",
       "      <td>2023-08-04</td>\n",
       "      <td>Toys</td>\n",
       "      <td>5.0</td>\n",
       "      <td>NaN</td>\n",
       "      <td>male</td>\n",
       "    </tr>\n",
       "    <tr>\n",
       "      <th>2146</th>\n",
       "      <td>CUST1381</td>\n",
       "      <td>Fatma Hassan</td>\n",
       "      <td>NaN</td>\n",
       "      <td>M</td>\n",
       "      <td>fatma.hassan@yahoo.com</td>\n",
       "      <td>NaN</td>\n",
       "      <td>237.62</td>\n",
       "      <td>2024-01-28</td>\n",
       "      <td>Toys</td>\n",
       "      <td>5.0</td>\n",
       "      <td>NaN</td>\n",
       "      <td>M</td>\n",
       "    </tr>\n",
       "    <tr>\n",
       "      <th>2147</th>\n",
       "      <td>CUST2338</td>\n",
       "      <td>Ali Gaber</td>\n",
       "      <td>-1.0</td>\n",
       "      <td>M</td>\n",
       "      <td>ali.gaber@gmail.com</td>\n",
       "      <td>NaN</td>\n",
       "      <td>174.72</td>\n",
       "      <td>2024-09-29</td>\n",
       "      <td>Books</td>\n",
       "      <td>NaN</td>\n",
       "      <td>NaN</td>\n",
       "      <td>M</td>\n",
       "    </tr>\n",
       "    <tr>\n",
       "      <th>2148</th>\n",
       "      <td>CUST1694</td>\n",
       "      <td>John Ali</td>\n",
       "      <td>200.0</td>\n",
       "      <td>Female</td>\n",
       "      <td>john.ali@yahoo.com</td>\n",
       "      <td>987654321.0</td>\n",
       "      <td>250.47</td>\n",
       "      <td>2024-02-05</td>\n",
       "      <td>NaN</td>\n",
       "      <td>5.0</td>\n",
       "      <td>NaN</td>\n",
       "      <td>Female</td>\n",
       "    </tr>\n",
       "    <tr>\n",
       "      <th>2149</th>\n",
       "      <td>CUST1567</td>\n",
       "      <td>Ahmed Hassan</td>\n",
       "      <td>NaN</td>\n",
       "      <td>male</td>\n",
       "      <td>ahmed.hassan@yahoo.com</td>\n",
       "      <td>123456789.0</td>\n",
       "      <td>891.41</td>\n",
       "      <td>2023-10-13</td>\n",
       "      <td>Clothing</td>\n",
       "      <td>3.0</td>\n",
       "      <td>NaN</td>\n",
       "      <td>male</td>\n",
       "    </tr>\n",
       "  </tbody>\n",
       "</table>\n",
       "<p>2150 rows × 12 columns</p>\n",
       "</div>"
      ],
      "text/plain": [
       "     CustomerID           Name    Age  Gender                      Email  \\\n",
       "0      CUST1000     Ali Hassan   72.0     NaN       ali.hassan@gmail.com   \n",
       "1      CUST1001      Fatma Ali    NaN  Female      fatma.ali@hotmail.com   \n",
       "2      CUST1002  Ahmed Mahmoud   -1.0    male  ahmed.mahmoud@hotmail.com   \n",
       "3      CUST1003    Ahmed Gaber   -1.0       F      ahmed.gaber@gmail.com   \n",
       "4      CUST1004    Ali Ibrahim   73.0       M      ali.ibrahim@yahoo.com   \n",
       "...         ...            ...    ...     ...                        ...   \n",
       "2145   CUST1447   Mark Mahmoud   66.0    male   mark.mahmoud@hotmail.com   \n",
       "2146   CUST1381   Fatma Hassan    NaN       M     fatma.hassan@yahoo.com   \n",
       "2147   CUST2338      Ali Gaber   -1.0       M        ali.gaber@gmail.com   \n",
       "2148   CUST1694       John Ali  200.0  Female         john.ali@yahoo.com   \n",
       "2149   CUST1567   Ahmed Hassan    NaN    male     ahmed.hassan@yahoo.com   \n",
       "\n",
       "            Phone  PurchaseAmount PurchaseDate ProductCategory  Rating  \\\n",
       "0     123456789.0          837.31   2023-10-12           Books     3.0   \n",
       "1             NaN          900.25   2023-02-23             NaN     3.0   \n",
       "2             NaN          761.72   2023-07-07            Toys     2.0   \n",
       "3             NaN          303.72   2023-12-30             NaN     2.0   \n",
       "4     987654321.0          635.81   2023-12-07        Clothing     2.0   \n",
       "...           ...             ...          ...             ...     ...   \n",
       "2145  987654321.0          462.47   2023-08-04            Toys     5.0   \n",
       "2146          NaN          237.62   2024-01-28            Toys     5.0   \n",
       "2147          NaN          174.72   2024-09-29           Books     NaN   \n",
       "2148  987654321.0          250.47   2024-02-05             NaN     5.0   \n",
       "2149  123456789.0          891.41   2023-10-13        Clothing     3.0   \n",
       "\n",
       "      Unnamed   Gender    \n",
       "0         NaN        NaN  \n",
       "1         NaN     Female  \n",
       "2         NaN       male  \n",
       "3         NaN          F  \n",
       "4         NaN          M  \n",
       "...       ...        ...  \n",
       "2145      NaN       male  \n",
       "2146      NaN          M  \n",
       "2147      NaN          M  \n",
       "2148      NaN     Female  \n",
       "2149      NaN       male  \n",
       "\n",
       "[2150 rows x 12 columns]"
      ]
     },
     "execution_count": 47,
     "metadata": {},
     "output_type": "execute_result"
    }
   ],
   "source": [
    "import pandas as pd\n",
    "import numpy as np \n",
    "import matplotlib.pyplot as plt\n",
    "import seaborn as sns\n",
    "\n",
    "customer=pd.read_csv(r\"C:/Users/mokta/OneDrive/Desktop/programming/data analysis/dataset/fake_customer_data_with_errors.csv\")\n",
    "customer"
   ]
  },
  {
   "cell_type": "code",
   "execution_count": 48,
   "id": "ac2f6376",
   "metadata": {},
   "outputs": [
    {
     "name": "stdout",
     "output_type": "stream",
     "text": [
      "<class 'pandas.core.frame.DataFrame'>\n",
      "RangeIndex: 2150 entries, 0 to 2149\n",
      "Data columns (total 12 columns):\n",
      " #   Column           Non-Null Count  Dtype  \n",
      "---  ------           --------------  -----  \n",
      " 0   CustomerID       2150 non-null   object \n",
      " 1   Name             2150 non-null   object \n",
      " 2   Age              1630 non-null   float64\n",
      " 3   Gender           1877 non-null   object \n",
      " 4   Email            2150 non-null   object \n",
      " 5   Phone            1072 non-null   float64\n",
      " 6   PurchaseAmount   2049 non-null   float64\n",
      " 7   PurchaseDate     2150 non-null   object \n",
      " 8   ProductCategory  1573 non-null   object \n",
      " 9   Rating           1821 non-null   float64\n",
      " 10  Unnamed          0 non-null      float64\n",
      " 11    Gender         1877 non-null   object \n",
      "dtypes: float64(5), object(7)\n",
      "memory usage: 201.7+ KB\n"
     ]
    }
   ],
   "source": [
    "customer.info()"
   ]
  },
  {
   "cell_type": "code",
   "execution_count": 49,
   "id": "851ffc69",
   "metadata": {},
   "outputs": [
    {
     "name": "stdout",
     "output_type": "stream",
     "text": [
      "['CUST1000' 'CUST1001' 'CUST1002' 'CUST1003' 'CUST1004' 'CUST1005'\n",
      " 'CUST1006' 'CUST1007' 'CUST1008' 'CUST1009']\n",
      "['Ali Hassan' 'Fatma Ali' 'Ahmed Mahmoud' 'Ahmed Gaber' 'Ali Ibrahim'\n",
      " 'Alaa Ibrahim' 'Mark Ali' 'Alaa Hassan' 'John Hassan' 'Fatma Gaber']\n",
      "[ 72.  nan  -1.  73. 200.  89.  18.  15.  44.  67.]\n",
      "[nan 'Female' 'male' 'F' 'M' 'female' 'Male']\n",
      "['ali.hassan@gmail.com' 'fatma.ali@hotmail.com'\n",
      " 'ahmed.mahmoud@hotmail.com' 'ahmed.gaber@gmail.com'\n",
      " 'ali.ibrahim@yahoo.com' 'alaa.ibrahim@hotmail.com' 'mark.ali@hotmail.com'\n",
      " 'alaa.hassan@hotmail.com' 'john.hassan@yahoo.com'\n",
      " 'fatma.gaber@hotmail.com']\n",
      "[1.23456789e+08            nan 9.87654321e+08]\n",
      "[837.31 900.25 761.72 303.72 635.81 886.26  92.53 318.43 883.52 966.47]\n",
      "['2023-10-12' '2023-02-23' '2023-07-07' '2023-12-30' '2023-12-07'\n",
      " '2025-01-16' '2024-06-12' '2024-05-17' '32/13/2020' '2025-01-24']\n",
      "['Books' nan 'Toys' 'Clothing' 'Home' 'Electronics']\n",
      "[ 3.  2. 10.  4. nan  1.  5.]\n",
      "[nan]\n",
      "[nan 'Female' 'male' 'F' 'M' 'female' 'Male']\n"
     ]
    }
   ],
   "source": [
    "for col in customer.columns:\n",
    "    print(customer[col].unique()[:10])"
   ]
  },
  {
   "cell_type": "code",
   "execution_count": null,
   "id": "ba21fc96",
   "metadata": {},
   "outputs": [
    {
     "data": {
      "application/vnd.microsoft.datawrangler.viewer.v0+json": {
       "columns": [
        {
         "name": "index",
         "rawType": "object",
         "type": "string"
        },
        {
         "name": "0",
         "rawType": "int64",
         "type": "integer"
        }
       ],
       "ref": "2e935b32-ff19-443b-8493-1db405f7ca3a",
       "rows": [
        [
         "CustomerID",
         "0"
        ],
        [
         "Name",
         "0"
        ],
        [
         "Age",
         "520"
        ],
        [
         "Gender",
         "273"
        ],
        [
         "Email",
         "0"
        ],
        [
         "Phone",
         "1078"
        ],
        [
         "PurchaseAmount",
         "101"
        ],
        [
         "PurchaseDate",
         "0"
        ],
        [
         "ProductCategory",
         "577"
        ],
        [
         "Rating",
         "329"
        ],
        [
         "Unnamed",
         "2150"
        ],
        [
         "  Gender  ",
         "273"
        ]
       ],
       "shape": {
        "columns": 1,
        "rows": 12
       }
      },
      "text/plain": [
       "CustomerID            0\n",
       "Name                  0\n",
       "Age                 520\n",
       "Gender              273\n",
       "Email                 0\n",
       "Phone              1078\n",
       "PurchaseAmount      101\n",
       "PurchaseDate          0\n",
       "ProductCategory     577\n",
       "Rating              329\n",
       "Unnamed            2150\n",
       "  Gender            273\n",
       "dtype: int64"
      ]
     },
     "execution_count": 4,
     "metadata": {},
     "output_type": "execute_result"
    }
   ],
   "source": [
    "customer.isna().sum()"
   ]
  },
  {
   "cell_type": "code",
   "execution_count": null,
   "id": "5fd6793c",
   "metadata": {},
   "outputs": [
    {
     "data": {
      "text/plain": [
       "Index(['CustomerID', 'Name', 'Age', 'Gender', 'Email', 'Phone',\n",
       "       'PurchaseAmount', 'PurchaseDate', 'ProductCategory', 'Rating',\n",
       "       'Unnamed', '  Gender  '],\n",
       "      dtype='object')"
      ]
     },
     "execution_count": 5,
     "metadata": {},
     "output_type": "execute_result"
    }
   ],
   "source": [
    "customer.columns"
   ]
  },
  {
   "cell_type": "markdown",
   "id": "42869d28",
   "metadata": {},
   "source": [
    "we have duplicated column which is Gender and null column called 'Unnamed' , we should remove them."
   ]
  },
  {
   "cell_type": "markdown",
   "id": "9487b6e4",
   "metadata": {},
   "source": [
    "## Data Cleaning :"
   ]
  },
  {
   "cell_type": "code",
   "execution_count": null,
   "id": "f0422577",
   "metadata": {},
   "outputs": [
    {
     "data": {
      "application/vnd.microsoft.datawrangler.viewer.v0+json": {
       "columns": [
        {
         "name": "index",
         "rawType": "int64",
         "type": "integer"
        },
        {
         "name": "CustomerID",
         "rawType": "object",
         "type": "string"
        },
        {
         "name": "Name",
         "rawType": "object",
         "type": "string"
        },
        {
         "name": "Age",
         "rawType": "float64",
         "type": "float"
        },
        {
         "name": "Gender",
         "rawType": "object",
         "type": "unknown"
        },
        {
         "name": "Email",
         "rawType": "object",
         "type": "string"
        },
        {
         "name": "Phone",
         "rawType": "float64",
         "type": "float"
        },
        {
         "name": "PurchaseAmount",
         "rawType": "float64",
         "type": "float"
        },
        {
         "name": "PurchaseDate",
         "rawType": "object",
         "type": "string"
        },
        {
         "name": "ProductCategory",
         "rawType": "object",
         "type": "unknown"
        },
        {
         "name": "Rating",
         "rawType": "float64",
         "type": "float"
        }
       ],
       "ref": "5f7edf2c-fb70-4571-b4ea-65297413dcb9",
       "rows": [
        [
         "0",
         "CUST1000",
         "Ali Hassan",
         "72.0",
         null,
         "ali.hassan@gmail.com",
         "123456789.0",
         "837.31",
         "2023-10-12",
         "Books",
         "3.0"
        ],
        [
         "1",
         "CUST1001",
         "Fatma Ali",
         null,
         "Female",
         "fatma.ali@hotmail.com",
         null,
         "900.25",
         "2023-02-23",
         null,
         "3.0"
        ],
        [
         "2",
         "CUST1002",
         "Ahmed Mahmoud",
         "-1.0",
         "male",
         "ahmed.mahmoud@hotmail.com",
         null,
         "761.72",
         "2023-07-07",
         "Toys",
         "2.0"
        ],
        [
         "3",
         "CUST1003",
         "Ahmed Gaber",
         "-1.0",
         "F",
         "ahmed.gaber@gmail.com",
         null,
         "303.72",
         "2023-12-30",
         null,
         "2.0"
        ],
        [
         "4",
         "CUST1004",
         "Ali Ibrahim",
         "73.0",
         "M",
         "ali.ibrahim@yahoo.com",
         "987654321.0",
         "635.81",
         "2023-12-07",
         "Clothing",
         "2.0"
        ],
        [
         "5",
         "CUST1005",
         "Alaa Ibrahim",
         null,
         "F",
         "alaa.ibrahim@hotmail.com",
         "987654321.0",
         "886.26",
         "2025-01-16",
         null,
         "2.0"
        ],
        [
         "6",
         "CUST1006",
         "Mark Ali",
         "-1.0",
         "male",
         "mark.ali@hotmail.com",
         null,
         "92.53",
         "2024-06-12",
         "Books",
         "2.0"
        ],
        [
         "7",
         "CUST1007",
         "Alaa Hassan",
         "200.0",
         "female",
         "alaa.hassan@hotmail.com",
         "987654321.0",
         "318.43",
         "2024-05-17",
         "Toys",
         "10.0"
        ],
        [
         "8",
         "CUST1008",
         "John Hassan",
         "89.0",
         "Male",
         "john.hassan@yahoo.com",
         null,
         "883.52",
         "32/13/2020",
         "Home",
         "4.0"
        ],
        [
         "9",
         "CUST1009",
         "Fatma Gaber",
         "200.0",
         "Female",
         "fatma.gaber@hotmail.com",
         null,
         "966.47",
         "2025-01-24",
         "Electronics",
         "2.0"
        ],
        [
         "10",
         "CUST1010",
         "Ahmed Smith",
         "-1.0",
         "M",
         "ahmed.smith@gmail.com",
         "987654321.0",
         "882.19",
         "2025-06-24",
         null,
         "3.0"
        ],
        [
         "11",
         "CUST1011",
         "Sara Smith",
         "-1.0",
         "Male",
         "sara.smith@yahoo.com",
         null,
         "405.79",
         "2024-08-05",
         null,
         "10.0"
        ],
        [
         "12",
         "CUST1012",
         "Lina Ibrahim",
         null,
         null,
         "lina.ibrahim@hotmail.com",
         null,
         "142.6",
         "2023-05-23",
         "Home",
         "2.0"
        ],
        [
         "13",
         "CUST1013",
         "Lina Gaber",
         null,
         "male",
         "lina.gaber@gmail.com",
         null,
         null,
         "2024-02-04",
         "Electronics",
         "2.0"
        ],
        [
         "14",
         "CUST1014",
         "Alaa Ali",
         null,
         "M",
         "alaa.ali@gmail.com",
         null,
         "891.8",
         "2023-05-21",
         "Clothing",
         null
        ],
        [
         "15",
         "CUST1015",
         "Ali Ibrahim",
         "18.0",
         "female",
         "ali.ibrahim@hotmail.com",
         "123456789.0",
         "337.49",
         "2024-06-25",
         "Home",
         "1.0"
        ],
        [
         "16",
         "CUST1016",
         "Fatma Hassan",
         "200.0",
         "Female",
         "fatma.hassan@gmail.com",
         "987654321.0",
         "272.08",
         "2024-01-09",
         "Toys",
         "2.0"
        ],
        [
         "17",
         "CUST1017",
         "John Mahmoud",
         "200.0",
         "M",
         "john.mahmoud@gmail.com",
         null,
         "833.56",
         "2025-02-19",
         null,
         null
        ],
        [
         "18",
         "CUST1018",
         "Alaa Ali",
         "15.0",
         "Female",
         "alaa.ali@hotmail.com",
         "123456789.0",
         "923.5",
         "2024-01-04",
         "Toys",
         "1.0"
        ],
        [
         "19",
         "CUST1019",
         "Ahmed Ibrahim",
         "-1.0",
         "Male",
         "ahmed.ibrahim@yahoo.com",
         "123456789.0",
         "497.45",
         "32/13/2020",
         null,
         "1.0"
        ],
        [
         "20",
         "CUST1020",
         "Lina Gaber",
         null,
         "M",
         "lina.gaber@hotmail.com",
         null,
         "667.69",
         "2023-04-27",
         "Clothing",
         null
        ],
        [
         "21",
         "CUST1021",
         "Fatma Ibrahim",
         null,
         "male",
         "fatma.ibrahim@yahoo.com",
         "123456789.0",
         "118.22",
         "2024-12-30",
         "Clothing",
         "1.0"
        ],
        [
         "22",
         "CUST1022",
         "Ahmed Mahmoud",
         "-1.0",
         null,
         "ahmed.mahmoud@gmail.com",
         null,
         "22.02",
         "2025-02-22",
         "Electronics",
         "1.0"
        ],
        [
         "23",
         "CUST1023",
         "Lina Ibrahim",
         "44.0",
         "M",
         "lina.ibrahim@yahoo.com",
         "123456789.0",
         "389.24",
         "32/13/2020",
         "Clothing",
         "10.0"
        ],
        [
         "24",
         "CUST1024",
         "John Hassan",
         "200.0",
         "Male",
         "john.hassan@hotmail.com",
         null,
         "125.65",
         "2023-02-27",
         null,
         "10.0"
        ],
        [
         "25",
         "CUST1025",
         "Fatma Mahmoud",
         "-1.0",
         "Female",
         "fatma.mahmoud@yahoo.com",
         "987654321.0",
         "334.63",
         "2025-06-18",
         "Electronics",
         "3.0"
        ],
        [
         "26",
         "CUST1026",
         "Sara Mahmoud",
         "-1.0",
         "M",
         "sara.mahmoud@hotmail.com",
         "123456789.0",
         "801.36",
         "32/13/2020",
         null,
         "10.0"
        ],
        [
         "27",
         "CUST1027",
         "Ahmed Hassan",
         null,
         "male",
         "ahmed.hassan@hotmail.com",
         null,
         "478.39",
         "2025-03-22",
         null,
         null
        ],
        [
         "28",
         "CUST1028",
         "Lina Smith",
         "-1.0",
         "Male",
         "lina.smith@gmail.com",
         "123456789.0",
         "303.65",
         "2023-11-10",
         "Clothing",
         "2.0"
        ],
        [
         "29",
         "CUST1029",
         "John Mahmoud",
         "67.0",
         "F",
         "john.mahmoud@hotmail.com",
         null,
         "387.63",
         "2024-02-28",
         "Books",
         "4.0"
        ],
        [
         "30",
         "CUST1030",
         "Ali Ali",
         "62.0",
         "F",
         "ali.ali@gmail.com",
         "987654321.0",
         null,
         "2023-05-16",
         "Toys",
         "2.0"
        ],
        [
         "31",
         "CUST1031",
         "John Hassan",
         "90.0",
         "male",
         "john.hassan@yahoo.com",
         null,
         "598.93",
         "2024-10-13",
         "Clothing",
         "5.0"
        ],
        [
         "32",
         "CUST1032",
         "Lina Mahmoud",
         "200.0",
         "M",
         "lina.mahmoud@hotmail.com",
         null,
         "958.61",
         "2024-03-01",
         null,
         null
        ],
        [
         "33",
         "CUST1033",
         "Sara Mahmoud",
         "200.0",
         "Male",
         "sara.mahmoud@gmail.com",
         "123456789.0",
         "378.4",
         "2024-05-30",
         null,
         null
        ],
        [
         "34",
         "CUST1034",
         "Fatma Mahmoud",
         "200.0",
         "F",
         "fatma.mahmoud@hotmail.com",
         "987654321.0",
         "892.09",
         "2023-11-15",
         null,
         "4.0"
        ],
        [
         "35",
         "CUST1035",
         "Mark Gaber",
         "200.0",
         "Male",
         "mark.gaber@yahoo.com",
         null,
         "917.28",
         "2024-11-16",
         "Home",
         "2.0"
        ],
        [
         "36",
         "CUST1036",
         "Sara Ali",
         "70.0",
         "female",
         "sara.ali@yahoo.com",
         null,
         "542.06",
         "2023-01-12",
         "Electronics",
         null
        ],
        [
         "37",
         "CUST1037",
         "Sara Hassan",
         null,
         "M",
         "sara.hassan@yahoo.com",
         null,
         "273.27",
         "2025-01-17",
         "Electronics",
         "5.0"
        ],
        [
         "38",
         "CUST1038",
         "Lina Gaber",
         "46.0",
         "female",
         "lina.gaber@hotmail.com",
         "123456789.0",
         "273.77",
         "2023-01-30",
         "Electronics",
         "3.0"
        ],
        [
         "39",
         "CUST1039",
         "Ahmed Hassan",
         "-1.0",
         "male",
         "ahmed.hassan@gmail.com",
         "123456789.0",
         "513.99",
         "2024-02-02",
         null,
         "5.0"
        ],
        [
         "40",
         "CUST1040",
         "Fatma Gaber",
         "200.0",
         "female",
         "fatma.gaber@gmail.com",
         "123456789.0",
         "812.78",
         "2024-11-27",
         null,
         "1.0"
        ],
        [
         "41",
         "CUST1041",
         "Alaa Mahmoud",
         null,
         "M",
         "alaa.mahmoud@hotmail.com",
         "987654321.0",
         "543.97",
         "2025-03-08",
         "Toys",
         "4.0"
        ],
        [
         "42",
         "CUST1042",
         "Sara Mahmoud",
         "-1.0",
         "female",
         "sara.mahmoud@gmail.com",
         "123456789.0",
         "70.55",
         "2024-01-03",
         "Home",
         "2.0"
        ],
        [
         "43",
         "CUST1043",
         "John Ibrahim",
         "57.0",
         "female",
         "john.ibrahim@hotmail.com",
         null,
         "330.84",
         "2024-08-12",
         null,
         null
        ],
        [
         "44",
         "CUST1044",
         "Sara Gaber",
         "200.0",
         null,
         "sara.gaber@hotmail.com",
         "987654321.0",
         "156.51",
         "2024-02-24",
         "Home",
         "3.0"
        ],
        [
         "45",
         "CUST1045",
         "John Gaber",
         null,
         "M",
         "john.gaber@gmail.com",
         null,
         "207.45",
         "2024-12-24",
         "Clothing",
         "5.0"
        ],
        [
         "46",
         "CUST1046",
         "Ahmed Hassan",
         "-1.0",
         null,
         "ahmed.hassan@hotmail.com",
         null,
         "713.49",
         "2023-02-27",
         "Books",
         "5.0"
        ],
        [
         "47",
         "CUST1047",
         "Ahmed Ibrahim",
         null,
         "F",
         "ahmed.ibrahim@yahoo.com",
         "123456789.0",
         "911.39",
         "2024-11-26",
         "Clothing",
         "2.0"
        ],
        [
         "48",
         "CUST1048",
         "Mark Smith",
         "81.0",
         "F",
         "mark.smith@yahoo.com",
         null,
         "309.4",
         "2024-02-05",
         "Clothing",
         "10.0"
        ],
        [
         "49",
         "CUST1049",
         "Fatma Mahmoud",
         "-1.0",
         "M",
         "fatma.mahmoud@yahoo.com",
         null,
         "500.24",
         "2023-02-13",
         null,
         "4.0"
        ]
       ],
       "shape": {
        "columns": 10,
        "rows": 2150
       }
      },
      "text/html": [
       "<div>\n",
       "<style scoped>\n",
       "    .dataframe tbody tr th:only-of-type {\n",
       "        vertical-align: middle;\n",
       "    }\n",
       "\n",
       "    .dataframe tbody tr th {\n",
       "        vertical-align: top;\n",
       "    }\n",
       "\n",
       "    .dataframe thead th {\n",
       "        text-align: right;\n",
       "    }\n",
       "</style>\n",
       "<table border=\"1\" class=\"dataframe\">\n",
       "  <thead>\n",
       "    <tr style=\"text-align: right;\">\n",
       "      <th></th>\n",
       "      <th>CustomerID</th>\n",
       "      <th>Name</th>\n",
       "      <th>Age</th>\n",
       "      <th>Gender</th>\n",
       "      <th>Email</th>\n",
       "      <th>Phone</th>\n",
       "      <th>PurchaseAmount</th>\n",
       "      <th>PurchaseDate</th>\n",
       "      <th>ProductCategory</th>\n",
       "      <th>Rating</th>\n",
       "    </tr>\n",
       "  </thead>\n",
       "  <tbody>\n",
       "    <tr>\n",
       "      <th>0</th>\n",
       "      <td>CUST1000</td>\n",
       "      <td>Ali Hassan</td>\n",
       "      <td>72.0</td>\n",
       "      <td>NaN</td>\n",
       "      <td>ali.hassan@gmail.com</td>\n",
       "      <td>123456789.0</td>\n",
       "      <td>837.31</td>\n",
       "      <td>2023-10-12</td>\n",
       "      <td>Books</td>\n",
       "      <td>3.0</td>\n",
       "    </tr>\n",
       "    <tr>\n",
       "      <th>1</th>\n",
       "      <td>CUST1001</td>\n",
       "      <td>Fatma Ali</td>\n",
       "      <td>NaN</td>\n",
       "      <td>Female</td>\n",
       "      <td>fatma.ali@hotmail.com</td>\n",
       "      <td>NaN</td>\n",
       "      <td>900.25</td>\n",
       "      <td>2023-02-23</td>\n",
       "      <td>NaN</td>\n",
       "      <td>3.0</td>\n",
       "    </tr>\n",
       "    <tr>\n",
       "      <th>2</th>\n",
       "      <td>CUST1002</td>\n",
       "      <td>Ahmed Mahmoud</td>\n",
       "      <td>-1.0</td>\n",
       "      <td>male</td>\n",
       "      <td>ahmed.mahmoud@hotmail.com</td>\n",
       "      <td>NaN</td>\n",
       "      <td>761.72</td>\n",
       "      <td>2023-07-07</td>\n",
       "      <td>Toys</td>\n",
       "      <td>2.0</td>\n",
       "    </tr>\n",
       "    <tr>\n",
       "      <th>3</th>\n",
       "      <td>CUST1003</td>\n",
       "      <td>Ahmed Gaber</td>\n",
       "      <td>-1.0</td>\n",
       "      <td>F</td>\n",
       "      <td>ahmed.gaber@gmail.com</td>\n",
       "      <td>NaN</td>\n",
       "      <td>303.72</td>\n",
       "      <td>2023-12-30</td>\n",
       "      <td>NaN</td>\n",
       "      <td>2.0</td>\n",
       "    </tr>\n",
       "    <tr>\n",
       "      <th>4</th>\n",
       "      <td>CUST1004</td>\n",
       "      <td>Ali Ibrahim</td>\n",
       "      <td>73.0</td>\n",
       "      <td>M</td>\n",
       "      <td>ali.ibrahim@yahoo.com</td>\n",
       "      <td>987654321.0</td>\n",
       "      <td>635.81</td>\n",
       "      <td>2023-12-07</td>\n",
       "      <td>Clothing</td>\n",
       "      <td>2.0</td>\n",
       "    </tr>\n",
       "    <tr>\n",
       "      <th>...</th>\n",
       "      <td>...</td>\n",
       "      <td>...</td>\n",
       "      <td>...</td>\n",
       "      <td>...</td>\n",
       "      <td>...</td>\n",
       "      <td>...</td>\n",
       "      <td>...</td>\n",
       "      <td>...</td>\n",
       "      <td>...</td>\n",
       "      <td>...</td>\n",
       "    </tr>\n",
       "    <tr>\n",
       "      <th>2145</th>\n",
       "      <td>CUST1447</td>\n",
       "      <td>Mark Mahmoud</td>\n",
       "      <td>66.0</td>\n",
       "      <td>male</td>\n",
       "      <td>mark.mahmoud@hotmail.com</td>\n",
       "      <td>987654321.0</td>\n",
       "      <td>462.47</td>\n",
       "      <td>2023-08-04</td>\n",
       "      <td>Toys</td>\n",
       "      <td>5.0</td>\n",
       "    </tr>\n",
       "    <tr>\n",
       "      <th>2146</th>\n",
       "      <td>CUST1381</td>\n",
       "      <td>Fatma Hassan</td>\n",
       "      <td>NaN</td>\n",
       "      <td>M</td>\n",
       "      <td>fatma.hassan@yahoo.com</td>\n",
       "      <td>NaN</td>\n",
       "      <td>237.62</td>\n",
       "      <td>2024-01-28</td>\n",
       "      <td>Toys</td>\n",
       "      <td>5.0</td>\n",
       "    </tr>\n",
       "    <tr>\n",
       "      <th>2147</th>\n",
       "      <td>CUST2338</td>\n",
       "      <td>Ali Gaber</td>\n",
       "      <td>-1.0</td>\n",
       "      <td>M</td>\n",
       "      <td>ali.gaber@gmail.com</td>\n",
       "      <td>NaN</td>\n",
       "      <td>174.72</td>\n",
       "      <td>2024-09-29</td>\n",
       "      <td>Books</td>\n",
       "      <td>NaN</td>\n",
       "    </tr>\n",
       "    <tr>\n",
       "      <th>2148</th>\n",
       "      <td>CUST1694</td>\n",
       "      <td>John Ali</td>\n",
       "      <td>200.0</td>\n",
       "      <td>Female</td>\n",
       "      <td>john.ali@yahoo.com</td>\n",
       "      <td>987654321.0</td>\n",
       "      <td>250.47</td>\n",
       "      <td>2024-02-05</td>\n",
       "      <td>NaN</td>\n",
       "      <td>5.0</td>\n",
       "    </tr>\n",
       "    <tr>\n",
       "      <th>2149</th>\n",
       "      <td>CUST1567</td>\n",
       "      <td>Ahmed Hassan</td>\n",
       "      <td>NaN</td>\n",
       "      <td>male</td>\n",
       "      <td>ahmed.hassan@yahoo.com</td>\n",
       "      <td>123456789.0</td>\n",
       "      <td>891.41</td>\n",
       "      <td>2023-10-13</td>\n",
       "      <td>Clothing</td>\n",
       "      <td>3.0</td>\n",
       "    </tr>\n",
       "  </tbody>\n",
       "</table>\n",
       "<p>2150 rows × 10 columns</p>\n",
       "</div>"
      ],
      "text/plain": [
       "     CustomerID           Name    Age  Gender                      Email  \\\n",
       "0      CUST1000     Ali Hassan   72.0     NaN       ali.hassan@gmail.com   \n",
       "1      CUST1001      Fatma Ali    NaN  Female      fatma.ali@hotmail.com   \n",
       "2      CUST1002  Ahmed Mahmoud   -1.0    male  ahmed.mahmoud@hotmail.com   \n",
       "3      CUST1003    Ahmed Gaber   -1.0       F      ahmed.gaber@gmail.com   \n",
       "4      CUST1004    Ali Ibrahim   73.0       M      ali.ibrahim@yahoo.com   \n",
       "...         ...            ...    ...     ...                        ...   \n",
       "2145   CUST1447   Mark Mahmoud   66.0    male   mark.mahmoud@hotmail.com   \n",
       "2146   CUST1381   Fatma Hassan    NaN       M     fatma.hassan@yahoo.com   \n",
       "2147   CUST2338      Ali Gaber   -1.0       M        ali.gaber@gmail.com   \n",
       "2148   CUST1694       John Ali  200.0  Female         john.ali@yahoo.com   \n",
       "2149   CUST1567   Ahmed Hassan    NaN    male     ahmed.hassan@yahoo.com   \n",
       "\n",
       "            Phone  PurchaseAmount PurchaseDate ProductCategory  Rating  \n",
       "0     123456789.0          837.31   2023-10-12           Books     3.0  \n",
       "1             NaN          900.25   2023-02-23             NaN     3.0  \n",
       "2             NaN          761.72   2023-07-07            Toys     2.0  \n",
       "3             NaN          303.72   2023-12-30             NaN     2.0  \n",
       "4     987654321.0          635.81   2023-12-07        Clothing     2.0  \n",
       "...           ...             ...          ...             ...     ...  \n",
       "2145  987654321.0          462.47   2023-08-04            Toys     5.0  \n",
       "2146          NaN          237.62   2024-01-28            Toys     5.0  \n",
       "2147          NaN          174.72   2024-09-29           Books     NaN  \n",
       "2148  987654321.0          250.47   2024-02-05             NaN     5.0  \n",
       "2149  123456789.0          891.41   2023-10-13        Clothing     3.0  \n",
       "\n",
       "[2150 rows x 10 columns]"
      ]
     },
     "execution_count": 6,
     "metadata": {},
     "output_type": "execute_result"
    }
   ],
   "source": [
    "# removing Unnamed and Gender columns\n",
    "customer=customer.drop(columns=['Unnamed','  Gender  '])\n",
    "customer"
   ]
  },
  {
   "cell_type": "code",
   "execution_count": null,
   "id": "4db799ac",
   "metadata": {},
   "outputs": [
    {
     "data": {
      "application/vnd.microsoft.datawrangler.viewer.v0+json": {
       "columns": [
        {
         "name": "index",
         "rawType": "int64",
         "type": "integer"
        },
        {
         "name": "CustomerID",
         "rawType": "object",
         "type": "string"
        },
        {
         "name": "Name",
         "rawType": "object",
         "type": "string"
        },
        {
         "name": "Age",
         "rawType": "float64",
         "type": "float"
        },
        {
         "name": "Gender",
         "rawType": "object",
         "type": "unknown"
        },
        {
         "name": "Email",
         "rawType": "object",
         "type": "string"
        },
        {
         "name": "Phone",
         "rawType": "float64",
         "type": "float"
        },
        {
         "name": "PurchaseAmount",
         "rawType": "float64",
         "type": "float"
        },
        {
         "name": "PurchaseDate",
         "rawType": "object",
         "type": "string"
        },
        {
         "name": "ProductCategory",
         "rawType": "object",
         "type": "unknown"
        },
        {
         "name": "Rating",
         "rawType": "float64",
         "type": "float"
        }
       ],
       "ref": "d99ec00d-665e-4789-ae24-bb182620594c",
       "rows": [
        [
         "2",
         "CUST1002",
         "Ahmed Mahmoud",
         "-1.0",
         "male",
         "ahmed.mahmoud@hotmail.com",
         null,
         "761.72",
         "2023-07-07",
         "Toys",
         "2.0"
        ],
        [
         "3",
         "CUST1003",
         "Ahmed Gaber",
         "-1.0",
         "F",
         "ahmed.gaber@gmail.com",
         null,
         "303.72",
         "2023-12-30",
         null,
         "2.0"
        ],
        [
         "6",
         "CUST1006",
         "Mark Ali",
         "-1.0",
         "male",
         "mark.ali@hotmail.com",
         null,
         "92.53",
         "2024-06-12",
         "Books",
         "2.0"
        ],
        [
         "10",
         "CUST1010",
         "Ahmed Smith",
         "-1.0",
         "M",
         "ahmed.smith@gmail.com",
         "987654321.0",
         "882.19",
         "2025-06-24",
         null,
         "3.0"
        ],
        [
         "11",
         "CUST1011",
         "Sara Smith",
         "-1.0",
         "Male",
         "sara.smith@yahoo.com",
         null,
         "405.79",
         "2024-08-05",
         null,
         "10.0"
        ],
        [
         "19",
         "CUST1019",
         "Ahmed Ibrahim",
         "-1.0",
         "Male",
         "ahmed.ibrahim@yahoo.com",
         "123456789.0",
         "497.45",
         "32/13/2020",
         null,
         "1.0"
        ],
        [
         "22",
         "CUST1022",
         "Ahmed Mahmoud",
         "-1.0",
         null,
         "ahmed.mahmoud@gmail.com",
         null,
         "22.02",
         "2025-02-22",
         "Electronics",
         "1.0"
        ],
        [
         "25",
         "CUST1025",
         "Fatma Mahmoud",
         "-1.0",
         "Female",
         "fatma.mahmoud@yahoo.com",
         "987654321.0",
         "334.63",
         "2025-06-18",
         "Electronics",
         "3.0"
        ],
        [
         "26",
         "CUST1026",
         "Sara Mahmoud",
         "-1.0",
         "M",
         "sara.mahmoud@hotmail.com",
         "123456789.0",
         "801.36",
         "32/13/2020",
         null,
         "10.0"
        ],
        [
         "28",
         "CUST1028",
         "Lina Smith",
         "-1.0",
         "Male",
         "lina.smith@gmail.com",
         "123456789.0",
         "303.65",
         "2023-11-10",
         "Clothing",
         "2.0"
        ],
        [
         "39",
         "CUST1039",
         "Ahmed Hassan",
         "-1.0",
         "male",
         "ahmed.hassan@gmail.com",
         "123456789.0",
         "513.99",
         "2024-02-02",
         null,
         "5.0"
        ],
        [
         "42",
         "CUST1042",
         "Sara Mahmoud",
         "-1.0",
         "female",
         "sara.mahmoud@gmail.com",
         "123456789.0",
         "70.55",
         "2024-01-03",
         "Home",
         "2.0"
        ],
        [
         "46",
         "CUST1046",
         "Ahmed Hassan",
         "-1.0",
         null,
         "ahmed.hassan@hotmail.com",
         null,
         "713.49",
         "2023-02-27",
         "Books",
         "5.0"
        ],
        [
         "49",
         "CUST1049",
         "Fatma Mahmoud",
         "-1.0",
         "M",
         "fatma.mahmoud@yahoo.com",
         null,
         "500.24",
         "2023-02-13",
         null,
         "4.0"
        ],
        [
         "50",
         "CUST1050",
         "Ahmed Ibrahim",
         "-1.0",
         "male",
         "ahmed.ibrahim@gmail.com",
         null,
         "93.1",
         "2022-11-18",
         "Clothing",
         "5.0"
        ],
        [
         "51",
         "CUST1051",
         "Ali Smith",
         "-1.0",
         "M",
         "ali.smith@yahoo.com",
         null,
         "968.44",
         "2024-07-01",
         "Home",
         "2.0"
        ],
        [
         "54",
         "CUST1054",
         "Ali Hassan",
         "-1.0",
         "male",
         "ali.hassan@yahoo.com",
         null,
         "639.4",
         "2023-07-21",
         "Electronics",
         null
        ],
        [
         "56",
         "CUST1056",
         "John Mahmoud",
         "-1.0",
         "male",
         "john.mahmoud@gmail.com",
         null,
         "346.31",
         "2025-01-02",
         "Toys",
         "3.0"
        ],
        [
         "59",
         "CUST1059",
         "Ali Mahmoud",
         "-1.0",
         "F",
         "ali.mahmoud@yahoo.com",
         null,
         "847.9",
         "2025-01-28",
         "Electronics",
         "5.0"
        ],
        [
         "64",
         "CUST1064",
         "Sara Ali",
         "-1.0",
         "M",
         "sara.ali@hotmail.com",
         null,
         "627.16",
         "2023-11-24",
         "Clothing",
         "5.0"
        ],
        [
         "68",
         "CUST1068",
         "Ali Hassan",
         "-1.0",
         "Female",
         "ali.hassan@gmail.com",
         null,
         "336.17",
         "2024-08-11",
         "Home",
         "1.0"
        ],
        [
         "69",
         "CUST1069",
         "Sara Hassan",
         "-1.0",
         "F",
         "sara.hassan@yahoo.com",
         "987654321.0",
         "338.8",
         "2024-07-02",
         "Clothing",
         "5.0"
        ],
        [
         "73",
         "CUST1073",
         "Ali Ali",
         "-1.0",
         "M",
         "ali.ali@gmail.com",
         null,
         "140.28",
         "2024-06-21",
         "Books",
         "5.0"
        ],
        [
         "76",
         "CUST1076",
         "Fatma Smith",
         "-1.0",
         "Female",
         "fatma.smith@hotmail.com",
         "123456789.0",
         "95.42",
         "2025-04-24",
         "Toys",
         "3.0"
        ],
        [
         "85",
         "CUST1085",
         "Ali Gaber",
         "-1.0",
         null,
         "ali.gaber@yahoo.com",
         null,
         "458.49",
         "2025-07-17",
         null,
         "10.0"
        ],
        [
         "88",
         "CUST1088",
         "Lina Hassan",
         "-1.0",
         "M",
         "lina.hassan@gmail.com",
         "123456789.0",
         "216.88",
         "2024-05-13",
         "Electronics",
         "3.0"
        ],
        [
         "90",
         "CUST1090",
         "Ali Mahmoud",
         "-1.0",
         "male",
         "ali.mahmoud@yahoo.com",
         "987654321.0",
         "143.28",
         "2025-06-25",
         "Clothing",
         "1.0"
        ],
        [
         "91",
         "CUST1091",
         "Sara Hassan",
         "-1.0",
         "F",
         "sara.hassan@hotmail.com",
         null,
         "753.92",
         "2023-02-19",
         "Books",
         "3.0"
        ],
        [
         "92",
         "CUST1092",
         "John Ali",
         "-1.0",
         "female",
         "john.ali@gmail.com",
         "987654321.0",
         "771.55",
         "2023-09-07",
         null,
         "10.0"
        ],
        [
         "94",
         "CUST1094",
         "Fatma Smith",
         "-1.0",
         "M",
         "fatma.smith@gmail.com",
         null,
         "883.32",
         "2023-07-06",
         null,
         null
        ],
        [
         "96",
         "CUST1096",
         "Ahmed Smith",
         "-1.0",
         "Male",
         "ahmed.smith@gmail.com",
         "987654321.0",
         "179.9",
         "2025-04-14",
         "Home",
         "4.0"
        ],
        [
         "98",
         "CUST1098",
         "Alaa Hassan",
         "-1.0",
         "Female",
         "alaa.hassan@hotmail.com",
         "123456789.0",
         "951.65",
         "2023-08-13",
         "Toys",
         "2.0"
        ],
        [
         "104",
         "CUST1104",
         "Ali Hassan",
         "-1.0",
         null,
         "ali.hassan@gmail.com",
         null,
         "392.66",
         "2024-04-04",
         "Home",
         null
        ],
        [
         "106",
         "CUST1106",
         "Ali Gaber",
         "-1.0",
         null,
         "ali.gaber@hotmail.com",
         "987654321.0",
         "361.23",
         "2024-01-02",
         "Toys",
         "2.0"
        ],
        [
         "112",
         "CUST1112",
         "Alaa Mahmoud",
         "-1.0",
         "female",
         "alaa.mahmoud@yahoo.com",
         "987654321.0",
         "519.25",
         "2024-07-06",
         null,
         "4.0"
        ],
        [
         "113",
         "CUST1113",
         "Mark Smith",
         "-1.0",
         "female",
         "mark.smith@gmail.com",
         "987654321.0",
         "440.41",
         "2022-11-28",
         null,
         "1.0"
        ],
        [
         "119",
         "CUST1119",
         "Ali Mahmoud",
         "-1.0",
         "Male",
         "ali.mahmoud@yahoo.com",
         "987654321.0",
         "259.98",
         "32/13/2020",
         "Electronics",
         null
        ],
        [
         "131",
         "CUST1131",
         "Sara Gaber",
         "-1.0",
         "M",
         "sara.gaber@yahoo.com",
         null,
         "950.64",
         "2025-03-08",
         "Home",
         "5.0"
        ],
        [
         "132",
         "CUST1132",
         "John Ali",
         "-1.0",
         "Male",
         "john.ali@gmail.com",
         null,
         "7.36",
         "2025-01-15",
         "Clothing",
         "2.0"
        ],
        [
         "135",
         "CUST1135",
         "Ali Smith",
         "-1.0",
         "Male",
         "ali.smith@hotmail.com",
         "123456789.0",
         "320.92",
         "2025-02-20",
         "Home",
         "4.0"
        ],
        [
         "144",
         "CUST1144",
         "Ahmed Smith",
         "-1.0",
         "male",
         "ahmed.smith@gmail.com",
         "987654321.0",
         "316.02",
         "2023-01-14",
         "Home",
         "3.0"
        ],
        [
         "145",
         "CUST1145",
         "John Mahmoud",
         "-1.0",
         "Female",
         "john.mahmoud@yahoo.com",
         "123456789.0",
         "756.48",
         "2023-06-08",
         "Electronics",
         "4.0"
        ],
        [
         "148",
         "CUST1148",
         "Mark Gaber",
         "-1.0",
         "Male",
         "mark.gaber@gmail.com",
         null,
         "323.94",
         "2023-09-17",
         null,
         "2.0"
        ],
        [
         "149",
         "CUST1149",
         "Lina Ali",
         "-1.0",
         "female",
         "lina.ali@hotmail.com",
         null,
         "232.81",
         "2023-07-04",
         "Electronics",
         null
        ],
        [
         "152",
         "CUST1152",
         "Alaa Hassan",
         "-1.0",
         "female",
         "alaa.hassan@gmail.com",
         "987654321.0",
         "660.14",
         "2024-09-20",
         "Electronics",
         null
        ],
        [
         "154",
         "CUST1154",
         "John Gaber",
         "-1.0",
         "male",
         "john.gaber@yahoo.com",
         "123456789.0",
         "891.14",
         "2024-02-18",
         "Clothing",
         "1.0"
        ],
        [
         "156",
         "CUST1156",
         "Ali Ali",
         "-1.0",
         "male",
         "ali.ali@yahoo.com",
         null,
         "354.43",
         "2023-09-23",
         null,
         "3.0"
        ],
        [
         "160",
         "CUST1160",
         "Ahmed Gaber",
         "-1.0",
         null,
         "ahmed.gaber@yahoo.com",
         null,
         "839.25",
         "2023-12-19",
         "Books",
         "10.0"
        ],
        [
         "161",
         "CUST1161",
         "Mark Ibrahim",
         "-1.0",
         "F",
         "mark.ibrahim@hotmail.com",
         "123456789.0",
         "647.76",
         "2023-12-01",
         null,
         "5.0"
        ],
        [
         "163",
         "CUST1163",
         "Lina Ibrahim",
         "-1.0",
         "female",
         "lina.ibrahim@hotmail.com",
         "987654321.0",
         "340.52",
         "32/13/2020",
         "Electronics",
         "3.0"
        ]
       ],
       "shape": {
        "columns": 10,
        "rows": 564
       }
      },
      "text/html": [
       "<div>\n",
       "<style scoped>\n",
       "    .dataframe tbody tr th:only-of-type {\n",
       "        vertical-align: middle;\n",
       "    }\n",
       "\n",
       "    .dataframe tbody tr th {\n",
       "        vertical-align: top;\n",
       "    }\n",
       "\n",
       "    .dataframe thead th {\n",
       "        text-align: right;\n",
       "    }\n",
       "</style>\n",
       "<table border=\"1\" class=\"dataframe\">\n",
       "  <thead>\n",
       "    <tr style=\"text-align: right;\">\n",
       "      <th></th>\n",
       "      <th>CustomerID</th>\n",
       "      <th>Name</th>\n",
       "      <th>Age</th>\n",
       "      <th>Gender</th>\n",
       "      <th>Email</th>\n",
       "      <th>Phone</th>\n",
       "      <th>PurchaseAmount</th>\n",
       "      <th>PurchaseDate</th>\n",
       "      <th>ProductCategory</th>\n",
       "      <th>Rating</th>\n",
       "    </tr>\n",
       "  </thead>\n",
       "  <tbody>\n",
       "    <tr>\n",
       "      <th>2</th>\n",
       "      <td>CUST1002</td>\n",
       "      <td>Ahmed Mahmoud</td>\n",
       "      <td>-1.0</td>\n",
       "      <td>male</td>\n",
       "      <td>ahmed.mahmoud@hotmail.com</td>\n",
       "      <td>NaN</td>\n",
       "      <td>761.72</td>\n",
       "      <td>2023-07-07</td>\n",
       "      <td>Toys</td>\n",
       "      <td>2.0</td>\n",
       "    </tr>\n",
       "    <tr>\n",
       "      <th>3</th>\n",
       "      <td>CUST1003</td>\n",
       "      <td>Ahmed Gaber</td>\n",
       "      <td>-1.0</td>\n",
       "      <td>F</td>\n",
       "      <td>ahmed.gaber@gmail.com</td>\n",
       "      <td>NaN</td>\n",
       "      <td>303.72</td>\n",
       "      <td>2023-12-30</td>\n",
       "      <td>NaN</td>\n",
       "      <td>2.0</td>\n",
       "    </tr>\n",
       "    <tr>\n",
       "      <th>6</th>\n",
       "      <td>CUST1006</td>\n",
       "      <td>Mark Ali</td>\n",
       "      <td>-1.0</td>\n",
       "      <td>male</td>\n",
       "      <td>mark.ali@hotmail.com</td>\n",
       "      <td>NaN</td>\n",
       "      <td>92.53</td>\n",
       "      <td>2024-06-12</td>\n",
       "      <td>Books</td>\n",
       "      <td>2.0</td>\n",
       "    </tr>\n",
       "    <tr>\n",
       "      <th>10</th>\n",
       "      <td>CUST1010</td>\n",
       "      <td>Ahmed Smith</td>\n",
       "      <td>-1.0</td>\n",
       "      <td>M</td>\n",
       "      <td>ahmed.smith@gmail.com</td>\n",
       "      <td>987654321.0</td>\n",
       "      <td>882.19</td>\n",
       "      <td>2025-06-24</td>\n",
       "      <td>NaN</td>\n",
       "      <td>3.0</td>\n",
       "    </tr>\n",
       "    <tr>\n",
       "      <th>11</th>\n",
       "      <td>CUST1011</td>\n",
       "      <td>Sara Smith</td>\n",
       "      <td>-1.0</td>\n",
       "      <td>Male</td>\n",
       "      <td>sara.smith@yahoo.com</td>\n",
       "      <td>NaN</td>\n",
       "      <td>405.79</td>\n",
       "      <td>2024-08-05</td>\n",
       "      <td>NaN</td>\n",
       "      <td>10.0</td>\n",
       "    </tr>\n",
       "    <tr>\n",
       "      <th>...</th>\n",
       "      <td>...</td>\n",
       "      <td>...</td>\n",
       "      <td>...</td>\n",
       "      <td>...</td>\n",
       "      <td>...</td>\n",
       "      <td>...</td>\n",
       "      <td>...</td>\n",
       "      <td>...</td>\n",
       "      <td>...</td>\n",
       "      <td>...</td>\n",
       "    </tr>\n",
       "    <tr>\n",
       "      <th>2130</th>\n",
       "      <td>CUST1051</td>\n",
       "      <td>Ali Smith</td>\n",
       "      <td>-1.0</td>\n",
       "      <td>M</td>\n",
       "      <td>ali.smith@yahoo.com</td>\n",
       "      <td>NaN</td>\n",
       "      <td>968.44</td>\n",
       "      <td>2024-07-01</td>\n",
       "      <td>Home</td>\n",
       "      <td>2.0</td>\n",
       "    </tr>\n",
       "    <tr>\n",
       "      <th>2132</th>\n",
       "      <td>CUST2287</td>\n",
       "      <td>Fatma Mahmoud</td>\n",
       "      <td>-1.0</td>\n",
       "      <td>female</td>\n",
       "      <td>fatma.mahmoud@gmail.com</td>\n",
       "      <td>NaN</td>\n",
       "      <td>704.74</td>\n",
       "      <td>32/13/2020</td>\n",
       "      <td>Toys</td>\n",
       "      <td>NaN</td>\n",
       "    </tr>\n",
       "    <tr>\n",
       "      <th>2133</th>\n",
       "      <td>CUST2124</td>\n",
       "      <td>Fatma Ibrahim</td>\n",
       "      <td>-1.0</td>\n",
       "      <td>NaN</td>\n",
       "      <td>fatma.ibrahim@gmail.com</td>\n",
       "      <td>987654321.0</td>\n",
       "      <td>NaN</td>\n",
       "      <td>2025-05-06</td>\n",
       "      <td>Toys</td>\n",
       "      <td>5.0</td>\n",
       "    </tr>\n",
       "    <tr>\n",
       "      <th>2140</th>\n",
       "      <td>CUST2259</td>\n",
       "      <td>Mark Smith</td>\n",
       "      <td>-1.0</td>\n",
       "      <td>M</td>\n",
       "      <td>mark.smith@yahoo.com</td>\n",
       "      <td>987654321.0</td>\n",
       "      <td>653.34</td>\n",
       "      <td>2023-02-12</td>\n",
       "      <td>Home</td>\n",
       "      <td>4.0</td>\n",
       "    </tr>\n",
       "    <tr>\n",
       "      <th>2147</th>\n",
       "      <td>CUST2338</td>\n",
       "      <td>Ali Gaber</td>\n",
       "      <td>-1.0</td>\n",
       "      <td>M</td>\n",
       "      <td>ali.gaber@gmail.com</td>\n",
       "      <td>NaN</td>\n",
       "      <td>174.72</td>\n",
       "      <td>2024-09-29</td>\n",
       "      <td>Books</td>\n",
       "      <td>NaN</td>\n",
       "    </tr>\n",
       "  </tbody>\n",
       "</table>\n",
       "<p>564 rows × 10 columns</p>\n",
       "</div>"
      ],
      "text/plain": [
       "     CustomerID           Name  Age  Gender                      Email  \\\n",
       "2      CUST1002  Ahmed Mahmoud -1.0    male  ahmed.mahmoud@hotmail.com   \n",
       "3      CUST1003    Ahmed Gaber -1.0       F      ahmed.gaber@gmail.com   \n",
       "6      CUST1006       Mark Ali -1.0    male       mark.ali@hotmail.com   \n",
       "10     CUST1010    Ahmed Smith -1.0       M      ahmed.smith@gmail.com   \n",
       "11     CUST1011     Sara Smith -1.0    Male       sara.smith@yahoo.com   \n",
       "...         ...            ...  ...     ...                        ...   \n",
       "2130   CUST1051      Ali Smith -1.0       M        ali.smith@yahoo.com   \n",
       "2132   CUST2287  Fatma Mahmoud -1.0  female    fatma.mahmoud@gmail.com   \n",
       "2133   CUST2124  Fatma Ibrahim -1.0     NaN    fatma.ibrahim@gmail.com   \n",
       "2140   CUST2259     Mark Smith -1.0       M       mark.smith@yahoo.com   \n",
       "2147   CUST2338      Ali Gaber -1.0       M        ali.gaber@gmail.com   \n",
       "\n",
       "            Phone  PurchaseAmount PurchaseDate ProductCategory  Rating  \n",
       "2             NaN          761.72   2023-07-07            Toys     2.0  \n",
       "3             NaN          303.72   2023-12-30             NaN     2.0  \n",
       "6             NaN           92.53   2024-06-12           Books     2.0  \n",
       "10    987654321.0          882.19   2025-06-24             NaN     3.0  \n",
       "11            NaN          405.79   2024-08-05             NaN    10.0  \n",
       "...           ...             ...          ...             ...     ...  \n",
       "2130          NaN          968.44   2024-07-01            Home     2.0  \n",
       "2132          NaN          704.74   32/13/2020            Toys     NaN  \n",
       "2133  987654321.0             NaN   2025-05-06            Toys     5.0  \n",
       "2140  987654321.0          653.34   2023-02-12            Home     4.0  \n",
       "2147          NaN          174.72   2024-09-29           Books     NaN  \n",
       "\n",
       "[564 rows x 10 columns]"
      ]
     },
     "execution_count": 7,
     "metadata": {},
     "output_type": "execute_result"
    }
   ],
   "source": [
    "negative_age = customer[customer['Age']<=0]\n",
    "negative_age"
   ]
  },
  {
   "cell_type": "code",
   "execution_count": null,
   "id": "9d84e24b",
   "metadata": {},
   "outputs": [
    {
     "data": {
      "application/vnd.microsoft.datawrangler.viewer.v0+json": {
       "columns": [
        {
         "name": "index",
         "rawType": "int64",
         "type": "integer"
        },
        {
         "name": "Age",
         "rawType": "float64",
         "type": "float"
        }
       ],
       "ref": "d569b160-7753-431a-8f4f-4f38603de3f6",
       "rows": [
        [
         "7",
         "200.0"
        ],
        [
         "9",
         "200.0"
        ],
        [
         "16",
         "200.0"
        ],
        [
         "17",
         "200.0"
        ],
        [
         "24",
         "200.0"
        ],
        [
         "32",
         "200.0"
        ],
        [
         "33",
         "200.0"
        ],
        [
         "34",
         "200.0"
        ],
        [
         "35",
         "200.0"
        ],
        [
         "40",
         "200.0"
        ],
        [
         "44",
         "200.0"
        ],
        [
         "55",
         "200.0"
        ],
        [
         "58",
         "200.0"
        ],
        [
         "60",
         "200.0"
        ],
        [
         "61",
         "200.0"
        ],
        [
         "62",
         "200.0"
        ],
        [
         "66",
         "200.0"
        ],
        [
         "75",
         "200.0"
        ],
        [
         "86",
         "200.0"
        ],
        [
         "93",
         "200.0"
        ],
        [
         "97",
         "200.0"
        ],
        [
         "99",
         "200.0"
        ],
        [
         "100",
         "200.0"
        ],
        [
         "102",
         "200.0"
        ],
        [
         "108",
         "200.0"
        ],
        [
         "109",
         "200.0"
        ],
        [
         "110",
         "200.0"
        ],
        [
         "114",
         "200.0"
        ],
        [
         "115",
         "200.0"
        ],
        [
         "116",
         "200.0"
        ],
        [
         "117",
         "200.0"
        ],
        [
         "118",
         "200.0"
        ],
        [
         "130",
         "200.0"
        ],
        [
         "134",
         "200.0"
        ],
        [
         "136",
         "200.0"
        ],
        [
         "137",
         "200.0"
        ],
        [
         "146",
         "200.0"
        ],
        [
         "151",
         "200.0"
        ],
        [
         "153",
         "200.0"
        ],
        [
         "155",
         "200.0"
        ],
        [
         "162",
         "200.0"
        ],
        [
         "164",
         "200.0"
        ],
        [
         "165",
         "200.0"
        ],
        [
         "169",
         "200.0"
        ],
        [
         "170",
         "200.0"
        ],
        [
         "179",
         "200.0"
        ],
        [
         "180",
         "200.0"
        ],
        [
         "185",
         "200.0"
        ],
        [
         "187",
         "200.0"
        ],
        [
         "188",
         "200.0"
        ]
       ],
       "shape": {
        "columns": 1,
        "rows": 559
       }
      },
      "text/plain": [
       "7       200.0\n",
       "9       200.0\n",
       "16      200.0\n",
       "17      200.0\n",
       "24      200.0\n",
       "        ...  \n",
       "2129    200.0\n",
       "2137    200.0\n",
       "2141    200.0\n",
       "2144    200.0\n",
       "2148    200.0\n",
       "Name: Age, Length: 559, dtype: float64"
      ]
     },
     "execution_count": 8,
     "metadata": {},
     "output_type": "execute_result"
    }
   ],
   "source": [
    "very_old=customer[customer['Age']==200]['Age']\n",
    "very_old"
   ]
  },
  {
   "cell_type": "markdown",
   "id": "e36305cd",
   "metadata": {},
   "source": [
    "We should convert negatives ages and ages equal 200 to nan values."
   ]
  },
  {
   "cell_type": "code",
   "execution_count": null,
   "id": "83d00216",
   "metadata": {},
   "outputs": [],
   "source": [
    "# How we deal with negatives ages and customers with 200 years old\n",
    "customer.loc[list(negative_age.index),'Age']=np.nan\n",
    "customer.loc[list(very_old.index),'Age']=np.nan\n",
    "customer['Age']=customer['Age'].fillna(customer['Age'].mean())"
   ]
  },
  {
   "cell_type": "code",
   "execution_count": null,
   "id": "3c347ec7",
   "metadata": {},
   "outputs": [],
   "source": [
    "# correcting Gender's values\n",
    "customer['Gender']=customer['Gender'].fillna(customer['Gender'].mode()[0])\n",
    "customer['Gender']=customer['Gender'].astype(str)\n",
    "customer['Gender']=customer['Gender'].str.lower()\n",
    "customer['Gender']=customer['Gender'].replace({'f':'female','m':'male'})"
   ]
  },
  {
   "cell_type": "code",
   "execution_count": null,
   "id": "a8de0fd9",
   "metadata": {},
   "outputs": [],
   "source": [
    "# Filling missing values in Purchase amount column with Purchase amount mean\n",
    "customer['PurchaseAmount'] = customer['PurchaseAmount'].fillna(customer['PurchaseAmount'].mean())"
   ]
  },
  {
   "cell_type": "code",
   "execution_count": null,
   "id": "4018953d",
   "metadata": {},
   "outputs": [],
   "source": [
    "# Filling missing values in Product category column with 'Unknown' and convert column type from object to category\n",
    "customer['ProductCategory']=customer['ProductCategory'].fillna('Unknown')\n",
    "customer['ProductCategory'] = customer['ProductCategory'].astype('category')"
   ]
  },
  {
   "cell_type": "code",
   "execution_count": null,
   "id": "4351dc02",
   "metadata": {},
   "outputs": [],
   "source": [
    "# convert Purchase date column type from object to datetime\n",
    "customer['PurchaseDate'] = pd.to_datetime(customer['PurchaseDate'], errors='coerce')"
   ]
  },
  {
   "cell_type": "code",
   "execution_count": null,
   "id": "96694563",
   "metadata": {},
   "outputs": [],
   "source": [
    "# removing rating values equal to 10 and filling missing values with the most repeated value\n",
    "customer['Rating']=customer['Rating'].replace(10,np.nan)\n",
    "customer['Rating']=customer['Rating'].fillna(customer['Rating'].mode()[0])"
   ]
  },
  {
   "cell_type": "code",
   "execution_count": null,
   "id": "d010548a",
   "metadata": {},
   "outputs": [
    {
     "name": "stdout",
     "output_type": "stream",
     "text": [
      "<class 'pandas.core.frame.DataFrame'>\n",
      "RangeIndex: 2150 entries, 0 to 2149\n",
      "Data columns (total 10 columns):\n",
      " #   Column           Non-Null Count  Dtype         \n",
      "---  ------           --------------  -----         \n",
      " 0   CustomerID       2150 non-null   object        \n",
      " 1   Name             2150 non-null   object        \n",
      " 2   Age              2150 non-null   float64       \n",
      " 3   Gender           2150 non-null   object        \n",
      " 4   Email            2150 non-null   object        \n",
      " 5   Phone            1072 non-null   float64       \n",
      " 6   PurchaseAmount   2150 non-null   float64       \n",
      " 7   PurchaseDate     2028 non-null   datetime64[ns]\n",
      " 8   ProductCategory  2150 non-null   category      \n",
      " 9   Rating           2150 non-null   float64       \n",
      "dtypes: category(1), datetime64[ns](1), float64(4), object(4)\n",
      "memory usage: 153.6+ KB\n"
     ]
    }
   ],
   "source": [
    "# checing if our changes done\n",
    "customer.info()"
   ]
  },
  {
   "cell_type": "code",
   "execution_count": null,
   "id": "920a4f53",
   "metadata": {},
   "outputs": [],
   "source": [
    "# Removing duplicated rows\n",
    "customer=customer.drop_duplicates()"
   ]
  },
  {
   "cell_type": "code",
   "execution_count": null,
   "id": "5db2dc42",
   "metadata": {},
   "outputs": [],
   "source": [
    "# Saving our new cleaned dataset\n",
    "customer.to_csv(\"fake_customer_cleaned.csv\",index=False)"
   ]
  },
  {
   "cell_type": "markdown",
   "id": "2331a101",
   "metadata": {},
   "source": [
    "## Data Analysis : "
   ]
  },
  {
   "cell_type": "markdown",
   "id": "13d1579a",
   "metadata": {},
   "source": [
    "### High Demand Products Categories :"
   ]
  },
  {
   "cell_type": "code",
   "execution_count": null,
   "id": "2cbaf995",
   "metadata": {},
   "outputs": [
    {
     "data": {
      "application/vnd.microsoft.datawrangler.viewer.v0+json": {
       "columns": [
        {
         "name": "ProductCategory",
         "rawType": "category",
         "type": "unknown"
        },
        {
         "name": "CustomerID",
         "rawType": "int64",
         "type": "integer"
        }
       ],
       "ref": "ddcddd39-b5ad-4d6a-9b0a-604eda4ce640",
       "rows": [
        [
         "Unknown",
         "565"
        ],
        [
         "Clothing",
         "323"
        ],
        [
         "Electronics",
         "323"
        ],
        [
         "Books",
         "305"
        ],
        [
         "Home",
         "296"
        ],
        [
         "Toys",
         "288"
        ]
       ],
       "shape": {
        "columns": 1,
        "rows": 6
       }
      },
      "text/html": [
       "<div>\n",
       "<style scoped>\n",
       "    .dataframe tbody tr th:only-of-type {\n",
       "        vertical-align: middle;\n",
       "    }\n",
       "\n",
       "    .dataframe tbody tr th {\n",
       "        vertical-align: top;\n",
       "    }\n",
       "\n",
       "    .dataframe thead th {\n",
       "        text-align: right;\n",
       "    }\n",
       "</style>\n",
       "<table border=\"1\" class=\"dataframe\">\n",
       "  <thead>\n",
       "    <tr style=\"text-align: right;\">\n",
       "      <th></th>\n",
       "      <th>CustomerID</th>\n",
       "    </tr>\n",
       "    <tr>\n",
       "      <th>ProductCategory</th>\n",
       "      <th></th>\n",
       "    </tr>\n",
       "  </thead>\n",
       "  <tbody>\n",
       "    <tr>\n",
       "      <th>Unknown</th>\n",
       "      <td>565</td>\n",
       "    </tr>\n",
       "    <tr>\n",
       "      <th>Clothing</th>\n",
       "      <td>323</td>\n",
       "    </tr>\n",
       "    <tr>\n",
       "      <th>Electronics</th>\n",
       "      <td>323</td>\n",
       "    </tr>\n",
       "    <tr>\n",
       "      <th>Books</th>\n",
       "      <td>305</td>\n",
       "    </tr>\n",
       "    <tr>\n",
       "      <th>Home</th>\n",
       "      <td>296</td>\n",
       "    </tr>\n",
       "    <tr>\n",
       "      <th>Toys</th>\n",
       "      <td>288</td>\n",
       "    </tr>\n",
       "  </tbody>\n",
       "</table>\n",
       "</div>"
      ],
      "text/plain": [
       "                 CustomerID\n",
       "ProductCategory            \n",
       "Unknown                 565\n",
       "Clothing                323\n",
       "Electronics             323\n",
       "Books                   305\n",
       "Home                    296\n",
       "Toys                    288"
      ]
     },
     "execution_count": 18,
     "metadata": {},
     "output_type": "execute_result"
    }
   ],
   "source": [
    "clients_nbr_by_category=pd.DataFrame(customer.groupby('ProductCategory',observed=False)['CustomerID'].count().sort_values(ascending=False))\n",
    "clients_nbr_by_category"
   ]
  },
  {
   "cell_type": "code",
   "execution_count": null,
   "id": "8ca2a6cc",
   "metadata": {},
   "outputs": [
    {
     "data": {
      "image/png": "[encoded data removed]",
      "text/plain": [
       "<Figure size 640x480 with 1 Axes>"
      ]
     },
     "metadata": {},
     "output_type": "display_data"
    }
   ],
   "source": [
    "sns.histplot(customer['ProductCategory'],bins=25)\n",
    "plt.title(\"Products number by category \", fontsize=14, fontweight=\"bold\")\n",
    "plt.xlabel(\"Product Category\")\n",
    "plt.ylabel(\"count\")\n",
    "plt.grid(axis='y', linestyle='--', alpha=0.7)\n",
    "\n",
    "plt.show()"
   ]
  },
  {
   "cell_type": "markdown",
   "id": "ff368cab",
   "metadata": {},
   "source": [
    "- high demand products categories are : clothing and electronics .\n",
    "- we should focus on these two categories where there is a big potential to find wining product in these cayegories."
   ]
  },
  {
   "cell_type": "markdown",
   "id": "4150b343",
   "metadata": {},
   "source": [
    "### Top Selling Products:"
   ]
  },
  {
   "cell_type": "code",
   "execution_count": null,
   "id": "b910dc80",
   "metadata": {},
   "outputs": [
    {
     "data": {
      "application/vnd.microsoft.datawrangler.viewer.v0+json": {
       "columns": [
        {
         "name": "ProductCategory",
         "rawType": "category",
         "type": "unknown"
        },
        {
         "name": "PurchaseAmount",
         "rawType": "float64",
         "type": "float"
        }
       ],
       "ref": "5a2ebd43-a69f-4065-b14c-0b50da15b923",
       "rows": [
        [
         "Books",
         "155686.84"
        ],
        [
         "Clothing",
         "173034.52"
        ],
        [
         "Electronics",
         "161823.37"
        ],
        [
         "Home",
         "148155.84"
        ],
        [
         "Toys",
         "151063.27"
        ],
        [
         "Unknown",
         "280974.24"
        ]
       ],
       "shape": {
        "columns": 1,
        "rows": 6
       }
      },
      "text/html": [
       "<div>\n",
       "<style scoped>\n",
       "    .dataframe tbody tr th:only-of-type {\n",
       "        vertical-align: middle;\n",
       "    }\n",
       "\n",
       "    .dataframe tbody tr th {\n",
       "        vertical-align: top;\n",
       "    }\n",
       "\n",
       "    .dataframe thead th {\n",
       "        text-align: right;\n",
       "    }\n",
       "</style>\n",
       "<table border=\"1\" class=\"dataframe\">\n",
       "  <thead>\n",
       "    <tr style=\"text-align: right;\">\n",
       "      <th></th>\n",
       "      <th>PurchaseAmount</th>\n",
       "    </tr>\n",
       "    <tr>\n",
       "      <th>ProductCategory</th>\n",
       "      <th></th>\n",
       "    </tr>\n",
       "  </thead>\n",
       "  <tbody>\n",
       "    <tr>\n",
       "      <th>Books</th>\n",
       "      <td>155686.84</td>\n",
       "    </tr>\n",
       "    <tr>\n",
       "      <th>Clothing</th>\n",
       "      <td>173034.52</td>\n",
       "    </tr>\n",
       "    <tr>\n",
       "      <th>Electronics</th>\n",
       "      <td>161823.37</td>\n",
       "    </tr>\n",
       "    <tr>\n",
       "      <th>Home</th>\n",
       "      <td>148155.84</td>\n",
       "    </tr>\n",
       "    <tr>\n",
       "      <th>Toys</th>\n",
       "      <td>151063.27</td>\n",
       "    </tr>\n",
       "    <tr>\n",
       "      <th>Unknown</th>\n",
       "      <td>280974.24</td>\n",
       "    </tr>\n",
       "  </tbody>\n",
       "</table>\n",
       "</div>"
      ],
      "text/plain": [
       "                 PurchaseAmount\n",
       "ProductCategory                \n",
       "Books                 155686.84\n",
       "Clothing              173034.52\n",
       "Electronics           161823.37\n",
       "Home                  148155.84\n",
       "Toys                  151063.27\n",
       "Unknown               280974.24"
      ]
     },
     "execution_count": 20,
     "metadata": {},
     "output_type": "execute_result"
    }
   ],
   "source": [
    "sales_by_category=pd.DataFrame(customer.groupby('ProductCategory',observed=False)['PurchaseAmount'].sum().round(2))\n",
    "sales_by_category"
   ]
  },
  {
   "cell_type": "code",
   "execution_count": 21,
   "id": "d3fd2412",
   "metadata": {},
   "outputs": [
    {
     "data": {
      "image/png": "[encoded data removed]",
      "text/plain": [
       "<Figure size 640x480 with 1 Axes>"
      ]
     },
     "metadata": {},
     "output_type": "display_data"
    }
   ],
   "source": [
    "sns.set_style(\"whitegrid\")\n",
    "ax = sns.barplot(x='ProductCategory',y='PurchaseAmount',data=sales_by_category,hue='PurchaseAmount',palette='Set2',legend=False)\n",
    "plt.title(\"Top Selling Products\", fontsize=16)\n",
    "for p in ax.patches:\n",
    "    height = p.get_height()\n",
    "    ax.annotate(f'{height}', \n",
    "                (p.get_x() + p.get_width() / 2., height), \n",
    "                ha='center', va='bottom')\n",
    "plt.show()"
   ]
  },
  {
   "cell_type": "markdown",
   "id": "d519a938",
   "metadata": {},
   "source": [
    "- top selling products categories are : clothing and electronics .\n",
    "- we should focus on this category where there is a big potential to find wining product in this cayegorie."
   ]
  },
  {
   "cell_type": "code",
   "execution_count": null,
   "id": "2b5da717",
   "metadata": {},
   "outputs": [
    {
     "data": {
      "image/png": "[encoded data removed]",
      "text/plain": [
       "<Figure size 640x480 with 1 Axes>"
      ]
     },
     "metadata": {},
     "output_type": "display_data"
    }
   ],
   "source": [
    "# Count number of customers per gender (Series, not DataFrame)\n",
    "clients_nbr_by_gender = customer.groupby('Gender', observed=False)['CustomerID'].count()\n",
    "\n",
    "# Plot pie chart\n",
    "plt.pie(clients_nbr_by_gender, \n",
    "        labels=clients_nbr_by_gender.index, \n",
    "        autopct='%1.1f%%', \n",
    "        startangle=90)\n",
    "plt.title(\"Customers per Gender\", fontsize=16)\n",
    "plt.show()\n"
   ]
  },
  {
   "cell_type": "code",
   "execution_count": null,
   "id": "54a6af19",
   "metadata": {},
   "outputs": [
    {
     "data": {
      "image/png": "[encoded data removed]",
      "text/plain": [
       "<Figure size 640x480 with 1 Axes>"
      ]
     },
     "metadata": {},
     "output_type": "display_data"
    }
   ],
   "source": [
    "sales_by_gender=pd.DataFrame(customer.groupby('Gender',observed=False)['PurchaseAmount'].sum().round(2))\n",
    "ax1 = sns.barplot(x='Gender',y='PurchaseAmount',data=sales_by_gender,hue='Gender',palette='Set2',legend=False)\n",
    "for p in ax1.patches:\n",
    "    height = p.get_height()\n",
    "    ax1.annotate(f'{height}', \n",
    "                (p.get_x() + p.get_width() / 2., height), \n",
    "                ha='center', va='bottom')\n",
    "plt.title(\"Total sales by gender\",fontsize=16)\n",
    "plt.show()\n"
   ]
  },
  {
   "cell_type": "markdown",
   "id": "0cc8f7c3",
   "metadata": {},
   "source": [
    "- Males spent ~606k total\n",
    "\n",
    "- Females spent ~464k total\n",
    "\n",
    "Now, if we connect this with the number of customers:\n",
    "\n",
    "Males are more numerous (57.6%) and contribute more revenue.\n",
    "\n",
    "But the gap in sales (~142k) is smaller than the gap in population (15.2% more males).\n",
    "\n",
    "This suggests:\n",
    "\n",
    " Female customers may actually spend slightly more per person (on average) compared to males."
   ]
  },
  {
   "cell_type": "markdown",
   "id": "2604a3bf",
   "metadata": {},
   "source": [
    "### Top Popular Products Categories : "
   ]
  },
  {
   "cell_type": "code",
   "execution_count": null,
   "id": "ff27f8ff",
   "metadata": {},
   "outputs": [
    {
     "data": {
      "application/vnd.microsoft.datawrangler.viewer.v0+json": {
       "columns": [
        {
         "name": "ProductCategory",
         "rawType": "category",
         "type": "unknown"
        },
        {
         "name": "Rating",
         "rawType": "float64",
         "type": "float"
        }
       ],
       "ref": "0d657af8-98cc-490e-be3c-a71944dc5fec",
       "rows": [
        [
         "Books",
         "2.97"
        ],
        [
         "Clothing",
         "3.05"
        ],
        [
         "Electronics",
         "3.08"
        ],
        [
         "Home",
         "3.03"
        ],
        [
         "Toys",
         "3.01"
        ],
        [
         "Unknown",
         "3.01"
        ]
       ],
       "shape": {
        "columns": 1,
        "rows": 6
       }
      },
      "text/html": [
       "<div>\n",
       "<style scoped>\n",
       "    .dataframe tbody tr th:only-of-type {\n",
       "        vertical-align: middle;\n",
       "    }\n",
       "\n",
       "    .dataframe tbody tr th {\n",
       "        vertical-align: top;\n",
       "    }\n",
       "\n",
       "    .dataframe thead th {\n",
       "        text-align: right;\n",
       "    }\n",
       "</style>\n",
       "<table border=\"1\" class=\"dataframe\">\n",
       "  <thead>\n",
       "    <tr style=\"text-align: right;\">\n",
       "      <th></th>\n",
       "      <th>Rating</th>\n",
       "    </tr>\n",
       "    <tr>\n",
       "      <th>ProductCategory</th>\n",
       "      <th></th>\n",
       "    </tr>\n",
       "  </thead>\n",
       "  <tbody>\n",
       "    <tr>\n",
       "      <th>Books</th>\n",
       "      <td>2.97</td>\n",
       "    </tr>\n",
       "    <tr>\n",
       "      <th>Clothing</th>\n",
       "      <td>3.05</td>\n",
       "    </tr>\n",
       "    <tr>\n",
       "      <th>Electronics</th>\n",
       "      <td>3.08</td>\n",
       "    </tr>\n",
       "    <tr>\n",
       "      <th>Home</th>\n",
       "      <td>3.03</td>\n",
       "    </tr>\n",
       "    <tr>\n",
       "      <th>Toys</th>\n",
       "      <td>3.01</td>\n",
       "    </tr>\n",
       "    <tr>\n",
       "      <th>Unknown</th>\n",
       "      <td>3.01</td>\n",
       "    </tr>\n",
       "  </tbody>\n",
       "</table>\n",
       "</div>"
      ],
      "text/plain": [
       "                 Rating\n",
       "ProductCategory        \n",
       "Books              2.97\n",
       "Clothing           3.05\n",
       "Electronics        3.08\n",
       "Home               3.03\n",
       "Toys               3.01\n",
       "Unknown            3.01"
      ]
     },
     "execution_count": 24,
     "metadata": {},
     "output_type": "execute_result"
    }
   ],
   "source": [
    "rating_by_category=pd.DataFrame(customer.groupby('ProductCategory',observed=False)['Rating'].mean().round(2))\n",
    "rating_by_category"
   ]
  },
  {
   "cell_type": "markdown",
   "id": "45230e60",
   "metadata": {},
   "source": [
    "- Top popular products categories are : Electronics and clothing.\n",
    "- Electronics and Clothing are the most popular, highly demanded, and top-selling product categories.\n",
    "- The winning product definitely belongs to one of these categories."
   ]
  },
  {
   "cell_type": "markdown",
   "id": "22bdd100",
   "metadata": {},
   "source": [
    "### Monthly Sales Trend : "
   ]
  },
  {
   "cell_type": "code",
   "execution_count": null,
   "id": "953751a0",
   "metadata": {},
   "outputs": [],
   "source": [
    "import calendar\n",
    "customer_copy = customer.copy()\n",
    "customer_copy['Month']=customer_copy['PurchaseDate'].dt.month\n",
    "customer_copy = customer_copy.dropna(subset='Month')\n",
    "customer_copy['Month']=customer_copy['Month'].astype('Int64')\n",
    "sales_by_month=pd.DataFrame(customer_copy.groupby('Month')['PurchaseAmount'].sum().reset_index())\n",
    "sales_by_month['Month'] = sales_by_month['Month'].apply(lambda x: calendar.month_abbr[x])"
   ]
  },
  {
   "cell_type": "code",
   "execution_count": 27,
   "id": "84ee9ab1",
   "metadata": {},
   "outputs": [
    {
     "data": {
      "image/png": "[encoded data removed]",
      "text/plain": [
       "<Figure size 1400x600 with 1 Axes>"
      ]
     },
     "metadata": {},
     "output_type": "display_data"
    }
   ],
   "source": [
    "plt.figure(figsize=(14,6))\n",
    "sns.set_style(\"whitegrid\")\n",
    "sns.lineplot(x='Month', y='PurchaseAmount', data=sales_by_month, \n",
    "             marker='o', linewidth=2, color=\"royalblue\")\n",
    "\n",
    "# Titles and labels\n",
    "plt.title(\"Monthly Sales Trend\", fontsize=16, fontweight='bold')\n",
    "plt.xlabel(\"Month\")\n",
    "plt.ylabel(\"Total Sales\")\n",
    "\n",
    "\n",
    "plt.show()"
   ]
  },
  {
   "cell_type": "markdown",
   "id": "0c710c25",
   "metadata": {},
   "source": [
    "### Remarks:\n",
    "- sales are increasing from January to May , hitting the annual peak in month may .\n",
    "- sales are decreasing from May to Sep , reaching to the lowest point in month Sep .\n",
    "- recovery start in Sep , sales raise again twords the end of the year \n",
    "### Inseights :\n",
    "- Peak in May (Month 5): Strong demand, maybe seasonal campaigns or events.\n",
    "- Low in September (Month 9): Demand drops sharply.\n",
    "- Recovery in Nov–Dec: Holiday/end-of-year shopping drives sales.\n",
    "### Business Decisions from These Insights:\n",
    "1. **Inventory & Supply Chain** : \n",
    "- increase stock before May and again before Nov–Dec to meet high demand.\n",
    "- Avoid stockouts during peak sales periods.\n",
    "- Reduce inventory in slow month (Jun , Sep) to lower holding costs.\n",
    "2. **Marketing & Promotions**:\n",
    "- Run big campaigns in May and Dec to maximize peak momentum.\n",
    "- Launch a special offers in Sep to fight the slowdown.\n",
    "3. **Staffing & Operations** : \n",
    "- Schedule extra staff in May and Nov-dec."
   ]
  },
  {
   "cell_type": "markdown",
   "id": "cd916f09",
   "metadata": {},
   "source": [
    "### Top Selling Products Categories in peak momentum :"
   ]
  },
  {
   "cell_type": "code",
   "execution_count": null,
   "id": "4633eb86",
   "metadata": {},
   "outputs": [
    {
     "data": {
      "image/png": "[encoded data removed]",
      "text/plain": [
       "<Figure size 640x480 with 1 Axes>"
      ]
     },
     "metadata": {},
     "output_type": "display_data"
    }
   ],
   "source": [
    "May_sales = pd.DataFrame(customer_copy[(customer_copy['Month']==5)].groupby('ProductCategory',observed=False).size().round().reset_index(name='count'))\n",
    "ax = sns.barplot(x='ProductCategory',y='count',data=May_sales,hue='ProductCategory',palette='Set2',legend=False)\n",
    "plt.title(\"High Demand Products Categories in May\", fontsize=16)\n",
    "for p in ax.patches:\n",
    "    height = p.get_height()\n",
    "    ax.annotate(f'{height}', \n",
    "                (p.get_x() + p.get_width() / 2., height), \n",
    "                ha='center', va='bottom')\n",
    "plt.show()"
   ]
  },
  {
   "cell_type": "markdown",
   "id": "62e3047e",
   "metadata": {},
   "source": [
    "Books and Electronics categories are the most demanded products categories in May :\n",
    "- we should increase Books and Electronics stocks and launch new products in these categories before may."
   ]
  },
  {
   "cell_type": "code",
   "execution_count": null,
   "id": "56139dc8",
   "metadata": {},
   "outputs": [
    {
     "data": {
      "image/png": "[encoded data removed]",
      "text/plain": [
       "<Figure size 640x480 with 1 Axes>"
      ]
     },
     "metadata": {},
     "output_type": "display_data"
    }
   ],
   "source": [
    "Sep_sales = pd.DataFrame(customer_copy[(customer_copy['Month']==12)].groupby('ProductCategory',observed=False).size().round().reset_index(name='count'))\n",
    "ax = sns.barplot(x='ProductCategory',y='count',data=Sep_sales,hue='ProductCategory',palette='Set2',legend=False)\n",
    "plt.title(\"High Demand Products Categories in Sep\", fontsize=16)\n",
    "for p in ax.patches:\n",
    "    height = p.get_height()\n",
    "    ax.annotate(f'{height}', \n",
    "                (p.get_x() + p.get_width() / 2., height), \n",
    "                ha='center', va='bottom')\n",
    "plt.show()"
   ]
  },
  {
   "cell_type": "markdown",
   "id": "0771af79",
   "metadata": {},
   "source": [
    "Clothing , Electronics and Books categories are the most demanded products categories in Sep :\n",
    "- we should increase Clothing , Books and Electronics stocks and launch new products in these categories before Sep."
   ]
  },
  {
   "cell_type": "markdown",
   "id": "6c25df7f",
   "metadata": {},
   "source": [
    "### Finding Long tail products :"
   ]
  },
  {
   "cell_type": "code",
   "execution_count": null,
   "id": "787546c7",
   "metadata": {},
   "outputs": [
    {
     "data": {
      "application/vnd.microsoft.datawrangler.viewer.v0+json": {
       "columns": [
        {
         "name": "index",
         "rawType": "int64",
         "type": "integer"
        },
        {
         "name": "ProductCategory",
         "rawType": "category",
         "type": "unknown"
        },
        {
         "name": "mean",
         "rawType": "float64",
         "type": "float"
        },
        {
         "name": "std",
         "rawType": "float64",
         "type": "float"
        },
        {
         "name": "CV",
         "rawType": "float64",
         "type": "float"
        }
       ],
       "ref": "863ee140-d74d-494a-a9a9-1dcffd545f37",
       "rows": [
        [
         "0",
         "Books",
         "12452.099166666667",
         "3053.5203079231756",
         "0.24522132911511177"
        ],
        [
         "1",
         "Clothing",
         "13259.396666666667",
         "4014.5507096092633",
         "0.30277023989346397"
        ],
        [
         "2",
         "Electronics",
         "12896.990833333335",
         "3755.4817380402455",
         "0.29119054100076536"
        ],
        [
         "3",
         "Home",
         "11629.050000000001",
         "3026.951947701005",
         "0.26029228077108657"
        ],
        [
         "4",
         "Toys",
         "11806.8175",
         "3995.4549257332274",
         "0.33840236166377835"
        ],
        [
         "5",
         "Unknown",
         "22170.264166666664",
         "4820.161254438502",
         "0.21741559857846388"
        ]
       ],
       "shape": {
        "columns": 4,
        "rows": 6
       }
      },
      "text/html": [
       "<div>\n",
       "<style scoped>\n",
       "    .dataframe tbody tr th:only-of-type {\n",
       "        vertical-align: middle;\n",
       "    }\n",
       "\n",
       "    .dataframe tbody tr th {\n",
       "        vertical-align: top;\n",
       "    }\n",
       "\n",
       "    .dataframe thead th {\n",
       "        text-align: right;\n",
       "    }\n",
       "</style>\n",
       "<table border=\"1\" class=\"dataframe\">\n",
       "  <thead>\n",
       "    <tr style=\"text-align: right;\">\n",
       "      <th></th>\n",
       "      <th>ProductCategory</th>\n",
       "      <th>mean</th>\n",
       "      <th>std</th>\n",
       "      <th>CV</th>\n",
       "    </tr>\n",
       "  </thead>\n",
       "  <tbody>\n",
       "    <tr>\n",
       "      <th>0</th>\n",
       "      <td>Books</td>\n",
       "      <td>12452.099167</td>\n",
       "      <td>3053.520308</td>\n",
       "      <td>0.245221</td>\n",
       "    </tr>\n",
       "    <tr>\n",
       "      <th>1</th>\n",
       "      <td>Clothing</td>\n",
       "      <td>13259.396667</td>\n",
       "      <td>4014.550710</td>\n",
       "      <td>0.302770</td>\n",
       "    </tr>\n",
       "    <tr>\n",
       "      <th>2</th>\n",
       "      <td>Electronics</td>\n",
       "      <td>12896.990833</td>\n",
       "      <td>3755.481738</td>\n",
       "      <td>0.291191</td>\n",
       "    </tr>\n",
       "    <tr>\n",
       "      <th>3</th>\n",
       "      <td>Home</td>\n",
       "      <td>11629.050000</td>\n",
       "      <td>3026.951948</td>\n",
       "      <td>0.260292</td>\n",
       "    </tr>\n",
       "    <tr>\n",
       "      <th>4</th>\n",
       "      <td>Toys</td>\n",
       "      <td>11806.817500</td>\n",
       "      <td>3995.454926</td>\n",
       "      <td>0.338402</td>\n",
       "    </tr>\n",
       "    <tr>\n",
       "      <th>5</th>\n",
       "      <td>Unknown</td>\n",
       "      <td>22170.264167</td>\n",
       "      <td>4820.161254</td>\n",
       "      <td>0.217416</td>\n",
       "    </tr>\n",
       "  </tbody>\n",
       "</table>\n",
       "</div>"
      ],
      "text/plain": [
       "  ProductCategory          mean          std        CV\n",
       "0           Books  12452.099167  3053.520308  0.245221\n",
       "1        Clothing  13259.396667  4014.550710  0.302770\n",
       "2     Electronics  12896.990833  3755.481738  0.291191\n",
       "3            Home  11629.050000  3026.951948  0.260292\n",
       "4            Toys  11806.817500  3995.454926  0.338402\n",
       "5         Unknown  22170.264167  4820.161254  0.217416"
      ]
     },
     "execution_count": 30,
     "metadata": {},
     "output_type": "execute_result"
    }
   ],
   "source": [
    "sales_by_month_category=pd.DataFrame(customer_copy.groupby(['Month','ProductCategory'],observed=False)['PurchaseAmount'].sum().round(2).reset_index())\n",
    "category_stats = sales_by_month_category.groupby('ProductCategory',observed=False)['PurchaseAmount'].agg(['mean', 'std']).reset_index()\n",
    "category_stats['CV'] = category_stats['std'] / category_stats['mean']\n",
    "category_stats"
   ]
  },
  {
   "cell_type": "markdown",
   "id": "4937a09c",
   "metadata": {},
   "source": [
    "In low-sales periods, we focus on long-tail products with consistent demand (CV < 0.3) :\n",
    "- Our analysis shows that Books, Electronics, and Home products maintain steady sales throughout the year , we will increase these categories stock.\n",
    "- we offer a discount on the other un demanded categories such as : Clothing and Toys in low sales periods."
   ]
  },
  {
   "cell_type": "code",
   "execution_count": null,
   "id": "da037cce",
   "metadata": {},
   "outputs": [
    {
     "data": {
      "image/png": "[encoded data removed]",
      "text/plain": [
       "<Figure size 1200x600 with 1 Axes>"
      ]
     },
     "metadata": {},
     "output_type": "display_data"
    }
   ],
   "source": [
    "plt.figure(figsize=(12,6))\n",
    "sns.set_style(\"whitegrid\")\n",
    "\n",
    "# Ensure Year is integer\n",
    "customer_copy['Year'] = customer_copy['PurchaseDate'].dt.year.astype(int)\n",
    "\n",
    "# Group by Year\n",
    "sales_year = customer_copy.groupby('Year')['PurchaseAmount'].sum().round(2).reset_index()\n",
    "\n",
    "# Plot\n",
    "sns.lineplot(x='Year', y='PurchaseAmount', data=sales_year,\n",
    "             marker='o', linewidth=2.5, color=\"royalblue\")\n",
    "\n",
    "# Titles and labels\n",
    "plt.title(\"Yearly Sales Trend\", fontsize=18, fontweight='bold')\n",
    "plt.xlabel(\"Year\", fontsize=14)\n",
    "plt.ylabel(\"Total Sales\", fontsize=14)\n",
    "\n",
    "# Show only unique years\n",
    "plt.xticks(sales_year['Year'])\n",
    "\n",
    "# Annotate values on points\n",
    "for i, row in sales_year.iterrows():\n",
    "    plt.text(row['Year'], row['PurchaseAmount']+5000, f\"${row['PurchaseAmount']:,}\", \n",
    "             ha='center', fontsize=10, color=\"black\")\n",
    "\n",
    "plt.show()\n"
   ]
  },
  {
   "cell_type": "markdown",
   "id": "f40f7657",
   "metadata": {},
   "source": [
    "### Analysis :\n",
    "\n",
    "1. **2022** :\n",
    "\n",
    "- Very low compared to later years.\n",
    "\n",
    "2. **2023** :\n",
    "\n",
    "- Huge jump in sales (+400% compared to 2022).\n",
    "\n",
    "- Indicates business expansion, more customers, or successful campaigns.\n",
    "\n",
    "- This is a strong growth year.\n",
    "\n",
    "3. **2024** :\n",
    "\n",
    "- Sales are still growing, but only slightly (+6.8% vs 2023).\n",
    "\n",
    "- Business might be reaching maturity, or sales are plateauing.\n",
    "\n",
    "4. **2025** : (drop)\n",
    "\n",
    "- Big decline (−48% compared to 2024).\n",
    "\n",
    "- This is a red flag . Could be due to:\n",
    "\n",
    "- Market saturation.\n",
    "\n",
    "- Losing customers to competitors.\n",
    "\n",
    "- Fewer marketing efforts or weaker product performance.\n",
    "\n",
    "- External factors (economy, supply chain issues).\n",
    "\n",
    "### Insights\n",
    "\n",
    "Overall trend: Growth → Peak → Decline.\n",
    "\n",
    "Business peaked in 2024, but 2025 shows trouble.\n",
    "\n",
    "### Business Implications\n",
    "\n",
    "- we should Investigate what went right in 2023–2024 (campaigns, products, promotions). and we Replicate those strategies."
   ]
  }
 ],
 "metadata": {
  "kernelspec": {
   "display_name": "Python 3",
   "language": "python",
   "name": "python3"
  },
  "language_info": {
   "codemirror_mode": {
    "name": "ipython",
    "version": 3
   },
   "file_extension": ".py",
   "mimetype": "text/x-python",
   "name": "python",
   "nbconvert_exporter": "python",
   "pygments_lexer": "ipython3",
   "version": "3.13.2"
  }
 },
 "nbformat": 4,
 "nbformat_minor": 5
}
